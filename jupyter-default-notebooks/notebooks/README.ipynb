{
 "cells": [
  {
   "cell_type": "markdown",
   "metadata": {
    "collapsed": true
   },
   "source": [
    "<div style=\"height: 79px; margin-right: 110px;\"><img src=\"/static/base/images/TAP-logo.png\" align=\"center\" /></div>\n",
    "\n",
    "## Welcome\n",
    "\n",
    "Welcome to the Jupyter Notebooks in TAP.  \n",
    "\n",
    "If you are new to Jupyter we recommend starting with \"Help -> User Interface Tour\".\n",
    "\n",
    "Under the [examples](/tree/examples) folder you'll find some example notebooks for working with different libraries:\n",
    "\n",
    "- [ATK](/tree/examples/atk)\n",
    "- [sparktk](/tree/examples/tal/sparktk)\n",
    "- [Spark](/tree/examples/spark)\n",
    "- [Pandas](/tree/examples/pandas-cookbook)\n",
    "\n",
    "Visit the [TAP Community](https://community.trustedanalytics.org/) to access forums and get help.\n",
    "\n",
    "\n",
    "## Help Menus\n",
    "\n",
    "On the right side of the tool bar you can find the **Help** and **TAP Help** menus. Under the **Help** menu is general documentation for Jupyter, Python, and libraries like pandas. Learn about keyboard shortcuts for Jupyter under \"Help -> Keyboard Shortcuts\". Under the **TAP Help** menu there is TAP specific help and code snippets for quick and easy reference.\n",
    "\n",
    "## Learning Python\n",
    "\n",
    "If you are new to Python consider starting with the [Hitchhiker's Guide to Python](http://docs.python-guide.org/en/latest/intro/learning/) which lists many resources for learning Python.\n",
    "\n",
    "## Installing Python Packages with Conda\n",
    "\n",
    "Many python packages come pre-installed (pandas, scikit-learn, matplotlib, numpy) but if you need to install additional packages go to the [Jupyter dashboard](/tree) and then choose \"New -> Terminal\".\n",
    "\n",
    "Within the Terminal window you can use conda at the command line to install python packages.\n",
    "\n",
    "```bash\n",
    "# list all packages installed\n",
    "conda list\n",
    "# search for a package by name\n",
    "conda search pandas\n",
    "# install a package by name\n",
    "conda install pandas\n",
    "# get help\n",
    "conda --help\n",
    "```\n",
    "\n",
    "You can also access conda directly in a notebook by prefixing your command with an exclamation point:"
   ]
  },
  {
   "cell_type": "code",
   "execution_count": 1,
   "metadata": {
    "collapsed": false
   },
   "outputs": [
    {
     "name": "stdout",
     "output_type": "stream",
     "text": [
      "# packages in environment at /opt/anaconda2:\n",
      "#\n",
      "argparse                  1.4.0                     <pip>\n",
      "backports                 1.0                      py27_0  \n",
      "backports_abc             0.5                      py27_0  \n",
      "bottle                    0.12.10                   <pip>\n",
      "cairo                     1.14.6                        0  \n",
      "conda                     4.2.13                   py27_0  \n",
      "conda-env                 2.6.0                         0  \n",
      "configparser              3.5.0                    py27_0  \n",
      "coverage                  4.2                       <pip>\n",
      "curl                      7.49.0                        1  \n",
      "cycler                    0.10.0                   py27_0  \n",
      "daaltk                    0.7.4.dev198              <pip>\n",
      "dbus                      1.10.10                       0  \n",
      "decorator                 4.0.10                   py27_1  \n",
      "entrypoints               0.2.2                    py27_0  \n",
      "enum34                    1.1.6                    py27_0  \n",
      "expat                     2.1.0                         0  \n",
      "fontconfig                2.12.1                        0  \n",
      "freetype                  2.5.5                         1  \n",
      "functools32               3.2.3.2                  py27_0  \n",
      "futures                   3.0.5                    py27_0  \n",
      "get_terminal_size         1.0.0                    py27_0  \n",
      "glib                      2.50.2                        0  \n",
      "glob2                     0.5                       <pip>\n",
      "gst-plugins-base          1.8.0                         0  \n",
      "gstreamer                 1.8.0                         0  \n",
      "icu                       54.1                          0  \n",
      "importlib                 1.0.4                     <pip>\n",
      "ipykernel                 4.5.2                    py27_0  \n",
      "ipython                   5.1.0                    py27_0  \n",
      "ipython_genutils          0.1.0                    py27_0  \n",
      "jinja2                    2.8                      py27_1  \n",
      "jpeg                      8d                            2  \n",
      "jsonschema                2.5.1                    py27_0  \n",
      "jupyter_client            4.4.0                    py27_0  \n",
      "jupyter_core              4.2.1                    py27_0  \n",
      "libffi                    3.2.1                         1  \n",
      "libgcc                    5.2.0                         0  \n",
      "libgfortran               3.0.0                         1  \n",
      "libiconv                  1.14                          0  \n",
      "libpng                    1.6.22                        0  \n",
      "libsodium                 1.0.10                        0  \n",
      "libxcb                    1.12                          1  \n",
      "libxml2                   2.9.4                         0  \n",
      "libxslt                   1.1.29                        0  \n",
      "lxml                      3.7.0                    py27_0  \n",
      "Mako                      1.0.6                     <pip>\n",
      "Markdown                  2.4.1                     <pip>\n",
      "markupsafe                0.23                     py27_2  \n",
      "matplotlib                1.5.3               np111py27_1  \n",
      "mistune                   0.7.3                    py27_0  \n",
      "nbconvert                 4.2.0                    py27_0  \n",
      "nbformat                  4.2.0                    py27_0  \n",
      "nomkl                     1.0                           0  \n",
      "nose                      1.3.7                     <pip>\n",
      "notebook                  4.2.2                    py27_0  \n",
      "numpy                     1.11.2             py27_nomkl_0  [nomkl]\n",
      "openblas                  0.2.14                        4  \n",
      "openssl                   1.0.2j                        0  \n",
      "ordereddict               1.1                       <pip>\n",
      "pandas                    0.19.1              np111py27_0  \n",
      "path.py                   8.2.1                    py27_0  \n",
      "pathlib2                  2.1.0                    py27_0  \n",
      "pcre                      8.39                          1  \n",
      "pdoc                      0.3.2                     <pip>\n",
      "pexpect                   4.0.1                    py27_0  \n",
      "pickleshare               0.7.4                    py27_0  \n",
      "pip                       9.0.1                    py27_1  \n",
      "pixman                    0.34.0                        0  \n",
      "prompt_toolkit            1.0.9                    py27_0  \n",
      "protobuf                  3.1.0.post1               <pip>\n",
      "ptyprocess                0.5.1                    py27_0  \n",
      "py                        1.4.31                    <pip>\n",
      "py4j                      0.9                       <pip>\n",
      "pycairo                   1.10.0                   py27_0  \n",
      "pycosat                   0.6.1                    py27_1  \n",
      "pycrypto                  2.6.1                    py27_4  \n",
      "pydicom                   0.9.9                     <pip>\n",
      "pygments                  2.1.3                    py27_0  \n",
      "pymongo                   3.3.0                    py27_0  \n",
      "pyparsing                 2.1.4                    py27_0  \n",
      "pyqt                      5.6.0                    py27_1  \n",
      "pytest                    3.0.4                     <pip>\n",
      "pytest-cov                2.4.0                     <pip>\n",
      "python                    2.7.12                        1  \n",
      "python-dateutil           2.6.0                    py27_0  \n",
      "pytz                      2016.10                  py27_0  \n",
      "pyzmq                     16.0.2                   py27_0  \n",
      "qt                        5.6.2                         1  \n",
      "readline                  6.2                           2  \n",
      "requests                  2.11.1                   py27_0  \n",
      "ruamel_yaml               0.11.14                  py27_0  \n",
      "scikit-learn              0.18.1          np111py27_nomkl_0  [nomkl]\n",
      "scipy                     0.18.1          np111py27_nomkl_0  [nomkl]\n",
      "setuptools                27.2.0                   py27_0  \n",
      "simplegeneric             0.8.1                    py27_1  \n",
      "singledispatch            3.4.0.3                  py27_0  \n",
      "sip                       4.18                     py27_0  \n",
      "six                       1.10.0                   py27_0  \n",
      "snakebite                 2.11.0                    <pip>\n",
      "sparktk                   0.7.4.dev3030             <pip>\n",
      "sqlite                    3.13.0                        0  \n",
      "ssl_match_hostname        3.4.0.2                  py27_1  \n",
      "tabulate                  0.7.5                     <pip>\n",
      "teamcity-messages         1.20                      <pip>\n",
      "terminado                 0.6                      py27_0  \n",
      "tk                        8.5.18                        0  \n",
      "tornado                   4.4.2                    py27_0  \n",
      "traitlets                 4.3.1                    py27_0  \n",
      "trustedanalytics          0.7.3.post20161020785           <pip>\n",
      "wcwidth                   0.1.7                    py27_0  \n",
      "wheel                     0.29.0                   py27_0  \n",
      "yaml                      0.1.6                         0  \n",
      "zeromq                    4.1.5                         0  \n",
      "zlib                      1.2.8                         3  \n"
     ]
    }
   ],
   "source": [
    "# list all packages installed\n",
    "!conda list"
   ]
  },
  {
   "cell_type": "markdown",
   "metadata": {
    "collapsed": true
   },
   "source": [
    "See the [Conda Documentation](http://conda.pydata.org/docs/using/index.html) for more information.\n",
    "\n",
    "[Pip](https://pip.pypa.io/en/stable/) is also available for packages not available via conda.\n",
    "\n",
    "## Troubleshooting\n",
    "\n",
    "If your notebook stops working in an unexpected way try:\n",
    "- Restarting the kernel: choose the menu item \"Kernel -> Restart\".\n",
    "- Shutting down your notebook and reopening it: visit the [Jupyter dashboard](/tree), choose \"Running\" tab, and click the \"Shutdown\" button.\n",
    "- Reaching out for help on the [TAP Community](https://community.trustedanalytics.org/)\n",
    "\n",
    "## Links\n",
    "\n",
    "- [TrustedAnalytics.org](http://trustedanalytics.org/) - the main website for TAP\n",
    "- [TAP Community](https://community.trustedanalytics.org/) - forums and community help\n",
    "- [TAP Github](https://github.com/trustedanalytics) - source code for TAP\n",
    "- [TAP JIRA](https://trustedanalytics.atlassian.net/) - tracking system for bugs and features\n",
    "- [ATK](http://trustedanalytics.github.io/atk/) - the TAP Analytics Toolkit documentation\n",
    "- [sparktk](http://trustedanalytics.github.io/sparktk) - the Trusted Analytics Libraries, Spark Toolkit documentation\n",
    "- [Jupyter](http://jupyter.org/) - project website\n",
    "- [Spark](http://spark.apache.org/) - project website\n",
    "- [Notebook Viewer](https://nbviewer.jupyter.org/) - a website for sharing Jupyter notebooks, many good examples are available"
   ]
  },
  {
   "cell_type": "markdown",
   "metadata": {
    "collapsed": true
   },
   "source": [
    "## Using custom DAAL or SparkTK packages"
   ]
  },
  {
   "cell_type": "markdown",
   "metadata": {},
   "source": [
    "Both DAAL and SparkTK rely on the following environment variables to be set:\n",
    "\n",
    "- SPARKTK_HOME\n",
    "- DAALTK_HOME\n",
    "- LD_LIBRARY_PATH\n",
    "\n",
    "These variables are listed in the file: \"daaltk.sh\"\n",
    "and they are currently set to the following values:"
   ]
  },
  {
   "cell_type": "code",
   "execution_count": 2,
   "metadata": {
    "collapsed": false
   },
   "outputs": [
    {
     "name": "stdout",
     "output_type": "stream",
     "text": [
      "/usr/local/sparktk-core\n",
      "/usr/local/daaltk-core\n",
      "/usr/local/daal-2016.2.181:\n"
     ]
    }
   ],
   "source": [
    "import os\n",
    "print os.environ['SPARKTK_HOME']\n",
    "print os.environ['DAALTK_HOME']\n",
    "print os.environ['LD_LIBRARY_PATH']"
   ]
  },
  {
   "cell_type": "markdown",
   "metadata": {},
   "source": [
    "Once the new packages are uploaded and extracted within Jupyter, above variables need to have new values assigned to them at the begining of the script to overwrite the default values."
   ]
  }
 ],
 "metadata": {
  "anaconda-cloud": {},
  "kernelspec": {
   "display_name": "Python 2",
   "language": "python",
   "name": "python2"
  },
  "language_info": {
   "codemirror_mode": {
    "name": "ipython",
    "version": 2
   },
   "file_extension": ".py",
   "mimetype": "text/x-python",
   "name": "python",
   "nbconvert_exporter": "python",
   "pygments_lexer": "ipython2",
   "version": "2.7.12"
  }
 },
 "nbformat": 4,
 "nbformat_minor": 0
}
