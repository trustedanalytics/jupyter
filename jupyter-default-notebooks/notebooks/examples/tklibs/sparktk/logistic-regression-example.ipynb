{
 "cells": [
  {
   "cell_type": "markdown",
   "metadata": {},
   "source": [
    "# Logistic Regression Example\n",
    "\n",
    "Logistic Regression is a widely used supervised binary and multi-class classification algorithm. The Logistic Regression model is initialized, trained on columns of a frame, predicts the labels of observations, and tests the predicted labels against the true labels. This model runs the [MLLib implementation](https://spark.apache.org/docs/1.5.0/mllib-linear-methods.html#logistic-regression) of Logistic Regression, with enhanced features — trained model summary statistics; Covariance and Hessian matrices; ability to specify the frequency of the train and test observations. Testing performance can be viewed via built-in binary and multi-class Classification Metrics. It also allows the user to select the optimizer to be used - [L-BFGS](https://en.wikipedia.org/wiki/Limited-memory_BFGS) or [SGD](https://en.wikipedia.org/wiki/Stochastic_gradient_descent).\n",
    "\n",
    "\n",
    "- Read more about [Logistic Regression in Wikipedia](https://en.wikipedia.org/wiki/Logistic_regression)\n",
    "- See [sparktk Documentation](http://trustedanalytics.github.io/sparktk/) for more information about the the API's"
   ]
  },
  {
   "cell_type": "code",
   "execution_count": 1,
   "metadata": {
    "collapsed": false,
    "scrolled": false
   },
   "outputs": [
    {
     "name": "stdout",
     "output_type": "stream",
     "text": [
      "sparktk installation path = ['/opt/anaconda2/lib/python2.7/site-packages/sparktk']\n"
     ]
    }
   ],
   "source": [
    "# First, let's verify that the sparktk libraries are installed\n",
    "import sparktk\n",
    "print \"sparktk installation path = %s\" % (sparktk.__path__)"
   ]
  },
  {
   "cell_type": "code",
   "execution_count": 2,
   "metadata": {
    "collapsed": false
   },
   "outputs": [],
   "source": [
    "# This notebook assumes you have already created a credentials file.\n",
    "# Enter the path here to connect to ATK\n",
    "from sparktk import TkContext\n",
    "tc = TkContext()"
   ]
  },
  {
   "cell_type": "code",
   "execution_count": 3,
   "metadata": {
    "collapsed": false
   },
   "outputs": [],
   "source": [
    "# Create a new frame by uploading rows\n",
    "data = [ [4.9,1.4,0], \n",
    "        [4.7,1.3,0], \n",
    "        [4.6,1.5,0], \n",
    "        [6.3,4.9,1],\n",
    "        [6.1,4.7,1], \n",
    "        [6.4,4.3,1], \n",
    "        [6.6,4.4,1], \n",
    "        [7.2,6.0,2],\n",
    "        [7.2,5.8,2], \n",
    "        [7.4,6.1,2], \n",
    "        [7.9,6.4,2]]\n",
    "\n",
    "schema = [('Sepal_Length', float),\n",
    "          ('Petal_Length', float),\n",
    "          ('Class', int)]\n",
    "frame = tc.frame.create(data, schema)"
   ]
  },
  {
   "cell_type": "code",
   "execution_count": 4,
   "metadata": {
    "collapsed": false
   },
   "outputs": [
    {
     "data": {
      "text/plain": [
       "[#]  Sepal_Length  Petal_Length  Class\n",
       "======================================\n",
       "[0]           4.9           1.4      0\n",
       "[1]           4.7           1.3      0\n",
       "[2]           4.6           1.5      0\n",
       "[3]           6.3           4.9      1\n",
       "[4]           6.1           4.7      1\n",
       "[5]           6.4           4.3      1\n",
       "[6]           6.6           4.4      1\n",
       "[7]           7.2           6.0      2\n",
       "[8]           7.2           5.8      2\n",
       "[9]           7.4           6.1      2"
      ]
     },
     "execution_count": 4,
     "metadata": {},
     "output_type": "execute_result"
    }
   ],
   "source": [
    "# Consider the following frame containing three columns.\n",
    "frame.inspect()"
   ]
  },
  {
   "cell_type": "code",
   "execution_count": 5,
   "metadata": {
    "collapsed": true
   },
   "outputs": [],
   "source": [
    "# Create a new model and train it\n",
    "model = tc.models.classification.logistic_regression.train(frame, ['Sepal_Length', 'Petal_Length'],\n",
    "                                                           'Class',\n",
    "                                                           num_classes=3,\n",
    "                                                           optimizer='LBFGS',\n",
    "                                                           compute_covariance=True)"
   ]
  },
  {
   "cell_type": "code",
   "execution_count": 6,
   "metadata": {
    "collapsed": false
   },
   "outputs": [
    {
     "data": {
      "text/plain": [
       "coefficients      = {u'Sepal_Length_0': -63.683819066034125, u'Sepal_Length_1': -120.44216460316508, u'Petal_Length_0': 117.97982446106286, u'intercept_1': -90.48440455038572, u'intercept_0': -0.7801530640222967, u'Petal_Length_1': 206.3396486706314}\n",
       "covariance_matrix = <sparktk.frame.frame.Frame object at 0x7fe841fce4d0>\n",
       "degrees_freedom   = {u'Sepal_Length_0': 1.0, u'Sepal_Length_1': 1.0, u'Petal_Length_0': 1.0, u'intercept_1': 1.0, u'intercept_0': 1.0, u'Petal_Length_1': 1.0}\n",
       "num_classes       = 3\n",
       "num_features      = 2\n",
       "p_value           = {u'Sepal_Length_0': 1.0, u'Sepal_Length_1': 1.0, u'Petal_Length_0': 0.9980954664211461, u'intercept_1': 1.0, u'intercept_0': 1.0, u'Petal_Length_1': 0.9974815878887049}\n",
       "standard_errors   = {u'Sepal_Length_0': 19317645.935567528, u'Sepal_Length_1': 19317141.267795388, u'Petal_Length_0': 20706646.795911506, u'intercept_1': 28035868.81120614, u'intercept_0': 28062872.199688833, u'Petal_Length_1': 20711319.532376617}\n",
       "wald_statistic    = {u'Sepal_Length_0': -3.2966656122824926e-06, u'Sepal_Length_1': -6.234989066625531e-06, u'Petal_Length_0': 5.697678896244938e-06, u'intercept_1': -3.2274514180284097e-06, u'intercept_0': -2.7800185899394403e-08, u'Petal_Length_1': 9.962651020282627e-06}"
      ]
     },
     "execution_count": 6,
     "metadata": {},
     "output_type": "execute_result"
    }
   ],
   "source": [
    "model.training_summary"
   ]
  },
  {
   "cell_type": "code",
   "execution_count": 7,
   "metadata": {
    "collapsed": false
   },
   "outputs": [
    {
     "data": {
      "text/plain": [
       "[#]  Sepal_Length_0      Petal_Length_0      intercept_0       \n",
       "===============================================================\n",
       "[0]   3.73171444492e+14  -4.00052132787e+14  -5.62650094207e+14\n",
       "[1]  -4.00052131903e+14   4.28765221531e+14   6.00530188945e+14\n",
       "[2]  -5.62650068572e+14   6.00530162791e+14   7.87524796096e+14\n",
       "[3]   3.73161692004e+14  -4.00111467117e+14   -5.6225771278e+14\n",
       "[4]   -4.0007789691e+14   4.28861979964e+14   6.00176171564e+14\n",
       "[5]  -5.62443729743e+14    6.0041020171e+14    7.8676734233e+14\n",
       "\n",
       "[#]  Sepal_Length_1      Petal_Length_1      intercept_1       \n",
       "===============================================================\n",
       "[0]   3.73161691935e+14  -4.00077897731e+14  -5.62443755249e+14\n",
       "[1]   -4.0011146616e+14   4.28861979896e+14   6.00410227724e+14\n",
       "[2]  -5.62257687042e+14   6.00176145315e+14   7.86767342149e+14\n",
       "[3]    3.7315194676e+14  -4.00137243285e+14  -5.62051362791e+14\n",
       "[4]   -4.0013724239e+14   4.28958756772e+14   6.00056186956e+14\n",
       "[5]  -5.62051337182e+14   6.00056160845e+14   7.86009939999e+14"
      ]
     },
     "execution_count": 7,
     "metadata": {},
     "output_type": "execute_result"
    }
   ],
   "source": [
    "# The covariance matrix is the inverse of the Hessian matrix for the trained model. \n",
    "# The Hessian matrix is the second-order partial derivatives of the model’s log-likelihood function\n",
    "model.training_summary.covariance_matrix.inspect()"
   ]
  },
  {
   "cell_type": "code",
   "execution_count": 8,
   "metadata": {
    "collapsed": false
   },
   "outputs": [
    {
     "data": {
      "text/plain": [
       "[#]  Sepal_Length  Petal_Length  Class  predicted_label\n",
       "=======================================================\n",
       "[0]           4.9           1.4      0                0\n",
       "[1]           4.7           1.3      0                0\n",
       "[2]           4.6           1.5      0                0\n",
       "[3]           6.3           4.9      1                1\n",
       "[4]           6.1           4.7      1                1\n",
       "[5]           6.4           4.3      1                1\n",
       "[6]           6.6           4.4      1                1\n",
       "[7]           7.2           6.0      2                2\n",
       "[8]           7.2           5.8      2                2\n",
       "[9]           7.4           6.1      2                2"
      ]
     },
     "execution_count": 8,
     "metadata": {},
     "output_type": "execute_result"
    }
   ],
   "source": [
    "# Use the model to make predictions\n",
    "model.predict(frame, ['Sepal_Length', 'Petal_Length'])\n",
    "\n",
    "frame.inspect()"
   ]
  },
  {
   "cell_type": "code",
   "execution_count": 9,
   "metadata": {
    "collapsed": false
   },
   "outputs": [
    {
     "data": {
      "text/plain": [
       "accuracy         = 1.0\n",
       "confusion_matrix =             Predicted_0.0  Predicted_1.0  Predicted_2.0\n",
       "Actual_0.0              3              0              0\n",
       "Actual_1.0              0              4              0\n",
       "Actual_2.0              0              0              4\n",
       "f_measure        = 1.0\n",
       "precision        = 1.0\n",
       "recall           = 1.0"
      ]
     },
     "execution_count": 9,
     "metadata": {},
     "output_type": "execute_result"
    }
   ],
   "source": [
    "# Test the model\n",
    "test_metrics = model.test(frame, 'Class', ['Sepal_Length', 'Petal_Length'])\n",
    "test_metrics"
   ]
  }
 ],
 "metadata": {
  "anaconda-cloud": {},
  "kernelspec": {
   "display_name": "Python [default]",
   "language": "python",
   "name": "python2"
  },
  "language_info": {
   "codemirror_mode": {
    "name": "ipython",
    "version": 2
   },
   "file_extension": ".py",
   "mimetype": "text/x-python",
   "name": "python",
   "nbconvert_exporter": "python",
   "pygments_lexer": "ipython2",
   "version": "2.7.12"
  }
 },
 "nbformat": 4,
 "nbformat_minor": 0
}
