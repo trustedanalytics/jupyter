{
 "cells": [
  {
   "cell_type": "markdown",
   "metadata": {},
   "source": [
    "# Latent Dirichlet Allocation Example\n",
    "\n",
    "LDA, short for Latent Dirichlet Allocation, is a commonly-used algorithm for topic modeling, but, more broadly, is considered a dimensionality reduction technique.. For example, given a number of documents, LDA can group the texts on similar topics together based on whether they contain similar words. LDA is an unsupervised algorithm, meaning that the groups are created based on the similarity to each other, rather than by comparing them to an idealized or standardized dataset.\n",
    "\n",
    "- Read more about [LDA in Wikipedia](https://en.wikipedia.org/wiki/Latent_Dirichlet_allocation)\n",
    "- See [SparkTK Documentation](https://github.com/trustedanalytics/spark-tk) for more information about the the API's"
   ]
  },
  {
   "cell_type": "code",
   "execution_count": 1,
   "metadata": {
    "collapsed": false,
    "scrolled": false
   },
   "outputs": [
    {
     "name": "stdout",
     "output_type": "stream",
     "text": [
      "SparkTK installation path = ['/opt/anaconda2/lib/python2.7/site-packages/sparktk']\n"
     ]
    }
   ],
   "source": [
    "# First, let's verify that the SparkTK libraries are installed\n",
    "import sparktk\n",
    "print \"SparkTK installation path = %s\" % (sparktk.__path__)"
   ]
  },
  {
   "cell_type": "code",
   "execution_count": 2,
   "metadata": {
    "collapsed": false
   },
   "outputs": [],
   "source": [
    "from sparktk import TkContext\n",
    "tc = TkContext()"
   ]
  },
  {
   "cell_type": "code",
   "execution_count": 3,
   "metadata": {
    "collapsed": false
   },
   "outputs": [],
   "source": [
    "# Create a new frame by uploading rows\n",
    "data = [ ['nytimes','harry',3], \n",
    "        ['nytimes','economy',35], \n",
    "        ['nytimes','jobs',40], \n",
    "        ['nytimes','magic',1],     \n",
    "        ['nytimes','realestate',15], \n",
    "        ['nytimes','movies',6], \n",
    "        ['economist','economy',50], \n",
    "        ['economist','jobs',35], \n",
    "        ['economist','realestate',20], \n",
    "        ['economist','movies',1], \n",
    "        ['economist','harry',1], \n",
    "        ['economist','magic',1], \n",
    "        ['harrypotter','harry',40], \n",
    "        ['harrypotter','magic',30], \n",
    "        ['harrypotter','chamber',20], \n",
    "        ['harrypotter','secrets',30] ]\n",
    "\n",
    "schema = [ ('doc_id', str),\n",
    "          ('word_id', str),\n",
    "          ('word_count', int) ]\n",
    "\n",
    "frame = tc.frame.create(data, schema)"
   ]
  },
  {
   "cell_type": "code",
   "execution_count": 4,
   "metadata": {
    "collapsed": false
   },
   "outputs": [
    {
     "data": {
      "text/plain": [
       "[#]  doc_id     word_id     word_count\n",
       "======================================\n",
       "[0]  nytimes    harry                3\n",
       "[1]  nytimes    economy             35\n",
       "[2]  nytimes    jobs                40\n",
       "[3]  nytimes    magic                1\n",
       "[4]  nytimes    realestate          15\n",
       "[5]  nytimes    movies               6\n",
       "[6]  economist  economy             50\n",
       "[7]  economist  jobs                35\n",
       "[8]  economist  realestate          20\n",
       "[9]  economist  movies               1"
      ]
     },
     "execution_count": 4,
     "metadata": {},
     "output_type": "execute_result"
    }
   ],
   "source": [
    "# Consider the following frame containing three columns.\n",
    "frame.inspect()"
   ]
  },
  {
   "cell_type": "markdown",
   "metadata": {},
   "source": [
    "### Create a new model and train it"
   ]
  },
  {
   "cell_type": "code",
   "execution_count": 5,
   "metadata": {
    "collapsed": false
   },
   "outputs": [
    {
     "name": "stdout",
     "output_type": "stream",
     "text": [
      "======Graph Statistics======\n",
      "Number of vertices: 11} (doc: 3, word: 8})\n",
      "Number of edges: 16\n",
      "\n",
      "======LDA Configuration======\n",
      "numTopics: 2\n",
      "alpha: 26.0\n",
      "beta: 1.100000023841858\n",
      "maxIterations: 3\n",
      "\n"
     ]
    }
   ],
   "source": [
    "# LDA model is trained using the frame above.\n",
    "model = tc.models.clustering.lda.train(frame, 'doc_id', 'word_id', 'word_count', \n",
    "                      max_iterations = 3, num_topics = 2)\n",
    "print model.report"
   ]
  },
  {
   "cell_type": "markdown",
   "metadata": {},
   "source": [
    "### Compute topic probabilities for document"
   ]
  },
  {
   "cell_type": "code",
   "execution_count": 6,
   "metadata": {
    "collapsed": false
   },
   "outputs": [
    {
     "name": "stdout",
     "output_type": "stream",
     "text": [
      "[#]  doc_id       topic_probabilities             \n",
      "==================================================\n",
      "[0]  harrypotter  [0.242264796494, 0.757735203506]\n",
      "[1]  nytimes      [0.691637481778, 0.308362518222]\n",
      "[2]  economist    [0.745181512941, 0.254818487059]\n"
     ]
    }
   ],
   "source": [
    "print model.topics_given_doc_frame.inspect()"
   ]
  },
  {
   "cell_type": "code",
   "execution_count": 7,
   "metadata": {
    "collapsed": false
   },
   "outputs": [
    {
     "name": "stdout",
     "output_type": "stream",
     "text": [
      "{u'topics_given_doc': [0.19531110732553258, 0.6046888926744676], u'new_words_percentage': 20.0, u'new_words_count': 1}\n"
     ]
    }
   ],
   "source": [
    "prediction = model.predict(['harry', 'secrets', 'magic', 'harry', 'chamber' 'test'])\n",
    "print(prediction)"
   ]
  },
  {
   "cell_type": "markdown",
   "metadata": {},
   "source": [
    "### Compute LDA score"
   ]
  },
  {
   "cell_type": "code",
   "execution_count": 8,
   "metadata": {
    "collapsed": false
   },
   "outputs": [
    {
     "name": "stdout",
     "output_type": "stream",
     "text": [
      "[#]  doc_id_L     word_id_L   word_count  lda_topic_given_doc\n",
      "=============================================================\n",
      "[0]  nytimes      realestate          15  None\n",
      "[1]  economist    realestate          20  None\n",
      "[2]  nytimes      harry                3  None\n",
      "[3]  economist    harry                1  None\n",
      "[4]  harrypotter  harry               40  None\n",
      "[5]  harrypotter  chamber             20  None\n",
      "[6]  nytimes      movies               6  None\n",
      "[7]  economist    movies               1  None\n",
      "[8]  nytimes      economy             35  None\n",
      "[9]  economist    economy             50  None\n",
      "\n",
      "[#]  lda_word_given_topic  lda_score      \n",
      "==========================================\n",
      "[0]  None                   0.110764190642\n",
      "[1]  None                   0.112209620192\n",
      "[2]  None                   0.107699286945\n",
      "[3]  None                  0.0980817303387\n",
      "[4]  None                   0.188415421764\n",
      "[5]  None                  0.0830315849033\n",
      "[6]  None                  0.0252590301573\n",
      "[7]  None                  0.0265027647554\n",
      "[8]  None                   0.311066329816\n",
      "[9]  None                   0.330216159453\n"
     ]
    }
   ],
   "source": [
    "model.topics_given_doc_frame.rename_columns({'topic_probabilities' : 'lda_topic_given_doc'})\n",
    "model.word_given_topics_frame.rename_columns({'topic_probabilities' : 'lda_word_given_topic'})\n",
    "\n",
    "frame= frame.join_left(model.topics_given_doc_frame, left_on=\"doc_id\", right_on=\"doc_id\")\n",
    "frame= frame.join_left(model.word_given_topics_frame, left_on=\"word_id\", right_on=\"word_id\")\n",
    "\n",
    "frame.dot_product(['lda_topic_given_doc'], ['lda_word_given_topic'], 'lda_score')\n",
    "print frame.inspect()"
   ]
  },
  {
   "cell_type": "markdown",
   "metadata": {},
   "source": [
    "### Compute histogram of scores"
   ]
  },
  {
   "cell_type": "code",
   "execution_count": 9,
   "metadata": {
    "collapsed": false
   },
   "outputs": [
    {
     "data": {
      "text/plain": [
       "[#]  word_id_L   lda_score_HISTOGRAM                                  \n",
       "======================================================================\n",
       "[0]  jobs                                         [0.0, 0.0, 1.0, 0.0]\n",
       "[1]  realestate                                   [0.0, 1.0, 0.0, 0.0]\n",
       "[2]  economy                                      [0.0, 0.0, 0.0, 1.0]\n",
       "[3]  magic                  [0.666666666667, 0.333333333333, 0.0, 0.0]\n",
       "[4]  secrets                                      [0.0, 1.0, 0.0, 0.0]\n",
       "[5]  harry       [0.333333333333, 0.333333333333, 0.333333333333, 0.0]\n",
       "[6]  movies                                       [1.0, 0.0, 0.0, 0.0]\n",
       "[7]  chamber                                      [1.0, 0.0, 0.0, 0.0]\n",
       "\n",
       "[#]  word_count_HISTOGRAM                      \n",
       "===============================================\n",
       "[0]                        [0.0, 0.0, 0.5, 0.5]\n",
       "[1]                        [0.0, 1.0, 0.0, 0.0]\n",
       "[2]                        [0.0, 0.0, 0.5, 0.5]\n",
       "[3]  [0.666666666667, 0.0, 0.333333333333, 0.0]\n",
       "[4]                        [0.0, 0.0, 1.0, 0.0]\n",
       "[5]  [0.666666666667, 0.0, 0.0, 0.333333333333]\n",
       "[6]                        [1.0, 0.0, 0.0, 0.0]\n",
       "[7]                        [0.0, 1.0, 0.0, 0.0]"
      ]
     },
     "execution_count": 9,
     "metadata": {},
     "output_type": "execute_result"
    }
   ],
   "source": [
    "word_hist = frame.histogram('word_count')\n",
    "lda_hist = frame.histogram('lda_score')\n",
    "group_frame = frame.group_by('word_id_L', \n",
    "                             {'word_count': tc.agg.histogram(word_hist.cutoffs), \n",
    "                              'lda_score':  tc.agg.histogram(lda_hist.cutoffs)})\n",
    "group_frame.inspect()"
   ]
  }
 ],
 "metadata": {
  "anaconda-cloud": {},
  "kernelspec": {
   "display_name": "Python [default]",
   "language": "python",
   "name": "python2"
  },
  "language_info": {
   "codemirror_mode": {
    "name": "ipython",
    "version": 2
   },
   "file_extension": ".py",
   "mimetype": "text/x-python",
   "name": "python",
   "nbconvert_exporter": "python",
   "pygments_lexer": "ipython2",
   "version": "2.7.12"
  }
 },
 "nbformat": 4,
 "nbformat_minor": 0
}
