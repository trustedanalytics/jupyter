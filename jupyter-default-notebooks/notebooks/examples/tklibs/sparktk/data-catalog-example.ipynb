{
 "cells": [
  {
   "cell_type": "markdown",
   "metadata": {},
   "source": [
    "# Publish Model to Data Catalog"
   ]
  },
  {
   "cell_type": "code",
   "execution_count": 1,
   "metadata": {
    "collapsed": false,
    "scrolled": false
   },
   "outputs": [
    {
     "name": "stdout",
     "output_type": "stream",
     "text": [
      "sparktk installation path = ['/opt/anaconda2/lib/python2.7/site-packages/sparktk']\n"
     ]
    }
   ],
   "source": [
    "# First, let's verify that the sparktk libraries are installed\n",
    "import sparktk\n",
    "print \"sparktk installation path = %s\" % (sparktk.__path__)"
   ]
  },
  {
   "cell_type": "code",
   "execution_count": 2,
   "metadata": {
    "collapsed": false
   },
   "outputs": [],
   "source": [
    "# This notebook assumes you have already created a credentials file.\n",
    "# Enter the path here to connect to ATK\n",
    "from sparktk import TkContext\n",
    "tc = TkContext()"
   ]
  },
  {
   "cell_type": "code",
   "execution_count": 3,
   "metadata": {
    "collapsed": false
   },
   "outputs": [],
   "source": [
    "# Create a new frame by uploading rows\n",
    "data = [ [4.9,1.4,0], \n",
    "        [4.7,1.3,0], \n",
    "        [4.6,1.5,0], \n",
    "        [6.3,4.9,1],\n",
    "        [6.1,4.7,1], \n",
    "        [6.4,4.3,1], \n",
    "        [6.6,4.4,1], \n",
    "        [7.2,6.0,2],\n",
    "        [7.2,5.8,2], \n",
    "        [7.4,6.1,2], \n",
    "        [7.9,6.4,2]]\n",
    "\n",
    "schema = [('Sepal_Length', float),\n",
    "          ('Petal_Length', float),\n",
    "          ('Class', int)]\n",
    "frame = tc.frame.create(data, schema)"
   ]
  },
  {
   "cell_type": "code",
   "execution_count": 4,
   "metadata": {
    "collapsed": false
   },
   "outputs": [
    {
     "data": {
      "text/plain": [
       "[#]  Sepal_Length  Petal_Length  Class\n",
       "======================================\n",
       "[0]           4.9           1.4      0\n",
       "[1]           4.7           1.3      0\n",
       "[2]           4.6           1.5      0\n",
       "[3]           6.3           4.9      1\n",
       "[4]           6.1           4.7      1\n",
       "[5]           6.4           4.3      1\n",
       "[6]           6.6           4.4      1\n",
       "[7]           7.2           6.0      2\n",
       "[8]           7.2           5.8      2\n",
       "[9]           7.4           6.1      2"
      ]
     },
     "execution_count": 4,
     "metadata": {},
     "output_type": "execute_result"
    }
   ],
   "source": [
    "# Consider the following frame containing three columns.\n",
    "frame.inspect()"
   ]
  },
  {
   "cell_type": "code",
   "execution_count": 5,
   "metadata": {
    "collapsed": true
   },
   "outputs": [],
   "source": [
    "# Create a new model and train it\n",
    "model = tc.models.classification.naive_bayes.train(frame, 'Class', ['Sepal_Length', 'Petal_Length'])"
   ]
  },
  {
   "cell_type": "code",
   "execution_count": 6,
   "metadata": {
    "collapsed": false
   },
   "outputs": [
    {
     "data": {
      "text/plain": [
       "u'hdfs://nameservice1/user/vcap/example_naive_bayes_model.mar'"
      ]
     },
     "execution_count": 6,
     "metadata": {},
     "output_type": "execute_result"
    }
   ],
   "source": [
    "# Export the trained model to MAR format\n",
    "model.export_to_mar(\"hdfs://nameservice1/user/vcap/example_naive_bayes_model.mar\")"
   ]
  },
  {
   "cell_type": "code",
   "execution_count": 7,
   "metadata": {
    "collapsed": false
   },
   "outputs": [],
   "source": [
    "# Import Data Catalog client module from tap_catalog\n",
    "from tap_catalog import DataCatalog"
   ]
  },
  {
   "cell_type": "code",
   "execution_count": 8,
   "metadata": {
    "collapsed": false
   },
   "outputs": [
    {
     "name": "stdout",
     "output_type": "stream",
     "text": [
      "Please input tap domain uri:atk-qa-nokrb.gotapaas.eu\n",
      "Please input user name:sparktk\n",
      "Please input password:········\n"
     ]
    }
   ],
   "source": [
    "# Create an instance of Data Catalog\n",
    "## data_catalog = DataCatalog('TAP_DOMAIN_URI', 'TAP_USERNAME', 'TAP_PASSWORD') # For Scripting purposes\n",
    "data_catalog = DataCatalog()"
   ]
  },
  {
   "cell_type": "code",
   "execution_count": 9,
   "metadata": {
    "collapsed": false
   },
   "outputs": [],
   "source": [
    "# Add an entry to Data Catalog\n",
    "data_catalog.add(\"/user/vcap/example_naive_bayes_model.mar\")"
   ]
  },
  {
   "cell_type": "code",
   "execution_count": 10,
   "metadata": {
    "collapsed": true
   },
   "outputs": [],
   "source": [
    "# Inspect HDFS directly using hdfsclient\n",
    "\n",
    "import hdfsclient\n",
    "from hdfsclient import ls, mkdir, rm, mv"
   ]
  },
  {
   "cell_type": "code",
   "execution_count": 11,
   "metadata": {
    "collapsed": false
   },
   "outputs": [
    {
     "data": {
      "text/plain": [
       "permissions      block_replication  owner    group    size      last_modification    path\n",
       "-------------  -------------------  -------  -------  --------  -------------------  ----------------------------------------\n",
       "-rwxrwx---                       3  vcap     vcap     28765246  2016-10-19 21:19     /user/vcap/example_naive_bayes_model.mar"
      ]
     },
     "execution_count": 11,
     "metadata": {},
     "output_type": "execute_result"
    }
   ],
   "source": [
    "ls(\"/user/vcap/example_naive_bayes_model.mar\")"
   ]
  },
  {
   "cell_type": "code",
   "execution_count": 12,
   "metadata": {
    "collapsed": false
   },
   "outputs": [
    {
     "data": {
      "text/plain": [
       "[{'path': '/user/vcap/example_naive_bayes_model.mar', 'result': True}]"
      ]
     },
     "execution_count": 12,
     "metadata": {},
     "output_type": "execute_result"
    }
   ],
   "source": [
    "# Cleanup the file from HDFS\n",
    "## (This does not delete from data catalog. Remember to delete it from the Data Catalog UI)\n",
    "rm(\"/user/vcap/example_naive_bayes_model.mar\")"
   ]
  }
 ],
 "metadata": {
  "anaconda-cloud": {},
  "kernelspec": {
   "display_name": "Python [default]",
   "language": "python",
   "name": "python2"
  },
  "language_info": {
   "codemirror_mode": {
    "name": "ipython",
    "version": 2
   },
   "file_extension": ".py",
   "mimetype": "text/x-python",
   "name": "python",
   "nbconvert_exporter": "python",
   "pygments_lexer": "ipython2",
   "version": "2.7.12"
  }
 },
 "nbformat": 4,
 "nbformat_minor": 0
}
