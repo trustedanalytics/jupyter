{
 "cells": [
  {
   "cell_type": "markdown",
   "metadata": {},
   "source": [
    "# Frame Basics\n",
    "\n",
    "This notebook shows some of the basics of working with sparktk frames.  The SparkTK frame acts as a proxy object to a large table of data in Spark, with properties and functions to operate on that frame.\n",
    "\n",
    "- See [SparkTK Documentation](https://github.com/trustedanalytics/spark-tk/) for more information about the the API's"
   ]
  },
  {
   "cell_type": "code",
   "execution_count": 1,
   "metadata": {
    "collapsed": false,
    "scrolled": false
   },
   "outputs": [
    {
     "name": "stdout",
     "output_type": "stream",
     "text": [
      "SparkTK installation path = ['/opt/anaconda2/lib/python2.7/site-packages/sparktk']\n"
     ]
    }
   ],
   "source": [
    "# First, let's verify that the SparkTK libraries are installed\n",
    "import sparktk\n",
    "print \"SparkTK installation path = %s\" % (sparktk.__path__)"
   ]
  },
  {
   "cell_type": "code",
   "execution_count": 2,
   "metadata": {
    "collapsed": false
   },
   "outputs": [],
   "source": [
    "from sparktk import TkContext\n",
    "tc = TkContext()"
   ]
  },
  {
   "cell_type": "code",
   "execution_count": 3,
   "metadata": {
    "collapsed": false
   },
   "outputs": [],
   "source": [
    "# Create a new frame by providing data and schema\n",
    "data = [ ['a', 1], \n",
    "         ['b', 2], \n",
    "         ['c', 3], \n",
    "         ['b', 4],     \n",
    "         ['a', 5] ]\n",
    "\n",
    "schema = [ ('letter', str),\n",
    "           ('number', int) ]\n",
    "\n",
    "frame = tc.frame.create(data, schema)"
   ]
  },
  {
   "cell_type": "code",
   "execution_count": 4,
   "metadata": {
    "collapsed": false
   },
   "outputs": [
    {
     "data": {
      "text/plain": [
       "[#]  letter  number\n",
       "===================\n",
       "[0]  a            1\n",
       "[1]  b            2\n",
       "[2]  c            3\n",
       "[3]  b            4\n",
       "[4]  a            5"
      ]
     },
     "execution_count": 4,
     "metadata": {},
     "output_type": "execute_result"
    }
   ],
   "source": [
    "# View the first few rows of a frame\n",
    "frame.inspect()"
   ]
  },
  {
   "cell_type": "code",
   "execution_count": 5,
   "metadata": {
    "collapsed": false
   },
   "outputs": [
    {
     "data": {
      "text/plain": [
       "[#]  letter  number\n",
       "===================\n",
       "[0]  a            1\n",
       "[1]  b            2"
      ]
     },
     "execution_count": 5,
     "metadata": {},
     "output_type": "execute_result"
    }
   ],
   "source": [
    "# View a specfic number of rows of a frame\n",
    "frame.inspect(2)"
   ]
  },
  {
   "cell_type": "code",
   "execution_count": 6,
   "metadata": {
    "collapsed": false
   },
   "outputs": [
    {
     "data": {
      "text/plain": [
       "[#]  letter  number  number_doubled\n",
       "===================================\n",
       "[0]  a            1               2\n",
       "[1]  b            2               4\n",
       "[2]  c            3               6\n",
       "[3]  b            4               8\n",
       "[4]  a            5              10"
      ]
     },
     "execution_count": 6,
     "metadata": {},
     "output_type": "execute_result"
    }
   ],
   "source": [
    "# Add a column to the frame\n",
    "frame.add_columns(lambda row: row.number * 2, ('number_doubled', int))\n",
    "frame.inspect()"
   ]
  },
  {
   "cell_type": "code",
   "execution_count": 7,
   "metadata": {
    "collapsed": false
   },
   "outputs": [
    {
     "data": {
      "text/plain": [
       "bad_row_count             = 0\n",
       "geometric_mean            = 5.21034216939\n",
       "good_row_count            = 5\n",
       "maximum                   = 10.0\n",
       "mean                      = 6.0\n",
       "mean_confidence_lower     = 3.22814141775\n",
       "mean_confidence_upper     = 8.77185858225\n",
       "minimum                   = 2.0\n",
       "non_positive_weight_count = 0\n",
       "positive_weight_count     = 5\n",
       "standard_deviation        = 3.16227766017\n",
       "total_weight              = 5.0\n",
       "variance                  = 10.0"
      ]
     },
     "execution_count": 7,
     "metadata": {},
     "output_type": "execute_result"
    }
   ],
   "source": [
    "# Get summary information for a column\n",
    "frame.column_summary_statistics('number_doubled')"
   ]
  },
  {
   "cell_type": "code",
   "execution_count": 8,
   "metadata": {
    "collapsed": false
   },
   "outputs": [
    {
     "data": {
      "text/plain": [
       "[#]  letter  number  number_doubled  number_cumulative_sum\n",
       "==========================================================\n",
       "[0]  a            1               2                    1.0\n",
       "[1]  b            2               4                    3.0\n",
       "[2]  c            3               6                    6.0\n",
       "[3]  b            4               8                   10.0\n",
       "[4]  a            5              10                   15.0"
      ]
     },
     "execution_count": 8,
     "metadata": {},
     "output_type": "execute_result"
    }
   ],
   "source": [
    "# Add a column with the cumulative sum of the number column\n",
    "frame.cumulative_sum('number')\n",
    "frame.inspect()"
   ]
  },
  {
   "cell_type": "code",
   "execution_count": 9,
   "metadata": {
    "collapsed": false
   },
   "outputs": [
    {
     "data": {
      "text/plain": [
       "[#]  letter  number  x2  number_cumulative_sum\n",
       "==============================================\n",
       "[0]  a            1   2                    1.0\n",
       "[1]  b            2   4                    3.0\n",
       "[2]  c            3   6                    6.0\n",
       "[3]  b            4   8                   10.0\n",
       "[4]  a            5  10                   15.0"
      ]
     },
     "execution_count": 9,
     "metadata": {},
     "output_type": "execute_result"
    }
   ],
   "source": [
    "# Rename a column\n",
    "frame.rename_columns({ 'number_doubled': \"x2\" })\n",
    "frame.inspect()"
   ]
  },
  {
   "cell_type": "code",
   "execution_count": 10,
   "metadata": {
    "collapsed": false
   },
   "outputs": [
    {
     "data": {
      "text/plain": [
       "[#]  letter  number  x2  number_cumulative_sum\n",
       "==============================================\n",
       "[0]  a            5  10                   15.0\n",
       "[1]  b            4   8                   10.0\n",
       "[2]  c            3   6                    6.0\n",
       "[3]  b            2   4                    3.0\n",
       "[4]  a            1   2                    1.0"
      ]
     },
     "execution_count": 10,
     "metadata": {},
     "output_type": "execute_result"
    }
   ],
   "source": [
    "# Sort the frame by column 'number' descending\n",
    "frame.sort('number', False)\n",
    "frame.inspect()"
   ]
  },
  {
   "cell_type": "code",
   "execution_count": 11,
   "metadata": {
    "collapsed": false
   },
   "outputs": [
    {
     "data": {
      "text/plain": [
       "[#]  letter  number  number_cumulative_sum\n",
       "==========================================\n",
       "[0]  a            5                   15.0\n",
       "[1]  b            4                   10.0\n",
       "[2]  c            3                    6.0\n",
       "[3]  b            2                    3.0\n",
       "[4]  a            1                    1.0"
      ]
     },
     "execution_count": 11,
     "metadata": {},
     "output_type": "execute_result"
    }
   ],
   "source": [
    "# Remove a column from the frame\n",
    "frame.drop_columns(\"x2\")\n",
    "frame.inspect()"
   ]
  },
  {
   "cell_type": "code",
   "execution_count": 12,
   "metadata": {
    "collapsed": false
   },
   "outputs": [
    {
     "data": {
      "text/html": [
       "<div>\n",
       "<table border=\"1\" class=\"dataframe\">\n",
       "  <thead>\n",
       "    <tr style=\"text-align: right;\">\n",
       "      <th></th>\n",
       "      <th>letter</th>\n",
       "      <th>number</th>\n",
       "    </tr>\n",
       "  </thead>\n",
       "  <tbody>\n",
       "    <tr>\n",
       "      <th>0</th>\n",
       "      <td>a</td>\n",
       "      <td>5</td>\n",
       "    </tr>\n",
       "    <tr>\n",
       "      <th>1</th>\n",
       "      <td>b</td>\n",
       "      <td>4</td>\n",
       "    </tr>\n",
       "    <tr>\n",
       "      <th>2</th>\n",
       "      <td>c</td>\n",
       "      <td>3</td>\n",
       "    </tr>\n",
       "    <tr>\n",
       "      <th>3</th>\n",
       "      <td>b</td>\n",
       "      <td>2</td>\n",
       "    </tr>\n",
       "    <tr>\n",
       "      <th>4</th>\n",
       "      <td>a</td>\n",
       "      <td>1</td>\n",
       "    </tr>\n",
       "  </tbody>\n",
       "</table>\n",
       "</div>"
      ],
      "text/plain": [
       "  letter  number\n",
       "0      a       5\n",
       "1      b       4\n",
       "2      c       3\n",
       "3      b       2\n",
       "4      a       1"
      ]
     },
     "execution_count": 12,
     "metadata": {},
     "output_type": "execute_result"
    }
   ],
   "source": [
    "# Download a frame from SparkTK to pandas\n",
    "pandas_frame = frame.to_pandas(columns=['letter', 'number'])\n",
    "pandas_frame"
   ]
  },
  {
   "cell_type": "code",
   "execution_count": 13,
   "metadata": {
    "collapsed": false
   },
   "outputs": [
    {
     "data": {
      "text/plain": [
       "[#]  letter  count  number_AVG  number_SUM  number_MIN\n",
       "======================================================\n",
       "[0]  b           2         3.0           6           2\n",
       "[1]  a           2         3.0           6           1\n",
       "[2]  c           1         3.0           3           3"
      ]
     },
     "execution_count": 13,
     "metadata": {},
     "output_type": "execute_result"
    }
   ],
   "source": [
    "# Calculate aggregations on the frame\n",
    "results = frame.group_by('letter', tc.agg.count, {'number': [tc.agg.avg, tc.agg.sum, tc.agg.min] })\n",
    "results.inspect()"
   ]
  },
  {
   "cell_type": "code",
   "execution_count": 14,
   "metadata": {
    "collapsed": false
   },
   "outputs": [
    {
     "data": {
      "text/plain": [
       "3"
      ]
     },
     "execution_count": 14,
     "metadata": {},
     "output_type": "execute_result"
    }
   ],
   "source": [
    "# Count the number of rows satisfying a predicate\n",
    "frame.count(lambda row: row.number > 2)"
   ]
  },
  {
   "cell_type": "markdown",
   "metadata": {
    "collapsed": true
   },
   "source": [
    "Many more frame operations are available.  See the [SparkTK Documentation](https://github.com/trustedanalytics/spark-tk)."
   ]
  }
 ],
 "metadata": {
  "anaconda-cloud": {},
  "kernelspec": {
   "display_name": "Python [default]",
   "language": "python",
   "name": "python2"
  },
  "language_info": {
   "codemirror_mode": {
    "name": "ipython",
    "version": 2
   },
   "file_extension": ".py",
   "mimetype": "text/x-python",
   "name": "python",
   "nbconvert_exporter": "python",
   "pygments_lexer": "ipython2",
   "version": "2.7.12"
  }
 },
 "nbformat": 4,
 "nbformat_minor": 0
}
