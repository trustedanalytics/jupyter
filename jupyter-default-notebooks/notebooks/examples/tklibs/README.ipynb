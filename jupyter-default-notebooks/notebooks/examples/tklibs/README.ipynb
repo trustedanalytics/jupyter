{
 "cells": [
  {
   "cell_type": "markdown",
   "metadata": {},
   "source": [
    "## TAP Spark Toolkit library Help\n",
    "\n",
    "Helpfull links\n",
    "- [spark-tk documentation](http://trustedanalytics.github.io/spark-tk/) if you ever need help.\n",
    "- [spark-tk git repo](https://github.com/trustedanalytics/spark-tk) - spark-tk source code\n",
    "- [spark-tk releases](https://github.com/trustedanalytics/spark-tk/releases)\n",
    "- [TAP JIRA](https://trustedanalytics.atlassian.net) if you have bugs to file.\n",
    "- [TrustedAnalytics.org](http://trustedanalytics.org) - the main website for TAP\n",
    "\n",
    "See the other [spark-tk Examples](/tree/examples/tklibs/sparktk) that come with TAP\n",
    "\n",
    "## TAP Menu\n",
    "\n",
    "On the right side of the tool bar you can find the **\"TAP Help\"** menu. There you can find all the links and code snippets provided here for a quick and easy reference."
   ]
  },
  {
   "cell_type": "code",
   "execution_count": 1,
   "metadata": {
    "collapsed": false
   },
   "outputs": [
    {
     "name": "stdout",
     "output_type": "stream",
     "text": [
      "spark tk installation path = ['/opt/anaconda2/lib/python2.7/site-packages/sparktk']\n"
     ]
    }
   ],
   "source": [
    "# First, let's verify that the sparktk libraries are installed\n",
    "import sparktk\n",
    "print \"spark tk installation path = %s\" % (sparktk.__path__)\n",
    "\n",
    "from sparktk import TkContext\n",
    "tc = TkContext(master=\"local\")"
   ]
  }
 ],
 "metadata": {
  "anaconda-cloud": {},
  "kernelspec": {
   "display_name": "Python [default]",
   "language": "python",
   "name": "python2"
  },
  "language_info": {
   "codemirror_mode": {
    "name": "ipython",
    "version": 2
   },
   "file_extension": ".py",
   "mimetype": "text/x-python",
   "name": "python",
   "nbconvert_exporter": "python",
   "pygments_lexer": "ipython2",
   "version": "2.7.12"
  }
 },
 "nbformat": 4,
 "nbformat_minor": 0
}
