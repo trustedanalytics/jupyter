{
 "cells": [
  {
   "cell_type": "markdown",
   "metadata": {},
   "source": [
    "# DAAL KMeans\n",
    "\n",
    "K-Means is among the most popular and simplest clustering methods. It is intended to partition a data set into a small number of clusters such that feature vectors within a cluster have greater similarity with one another than with feature vectors from other clusters. Each cluster is characterized by a representative point, called a centroid, and a cluster radius.\n",
    "\n",
    "In other words, the clustering methods enable reducing the problem of analysis of the entire data set to the analysis of clusters.\n",
    "\n",
    "- Read more about [KMeans in the intel developer zone](https://software.intel.com/en-us/node/564616)\n",
    "- See [daaltk Documentation](https://github.com/trustedanalytics/daal-tk) for more information about the the API's"
   ]
  },
  {
   "cell_type": "code",
   "execution_count": null,
   "metadata": {
    "collapsed": false
   },
   "outputs": [],
   "source": [
    "# First, let's verify that the SparkTK and daaltk libraries are installed\n",
    "import sparktk\n",
    "import daaltk\n",
    "\n",
    "print \"sparktk installation path = %s\" % (sparktk.__path__)\n",
    "print \"daaltk installation path = %s\" % (daaltk.__path__)"
   ]
  },
  {
   "cell_type": "code",
   "execution_count": null,
   "metadata": {
    "collapsed": true
   },
   "outputs": [],
   "source": [
    "from sparktk import TkContext\n",
    "tc = sparktk.TkContext(other_libs=[daaltk])"
   ]
  },
  {
   "cell_type": "code",
   "execution_count": null,
   "metadata": {
    "collapsed": true
   },
   "outputs": [],
   "source": [
    "# Create a new frame by providing data and schema\n",
    "data = [[2,\"ab\"],[1,\"cd\"],[7,\"ef\"],[1,\"gh\"],[9,\"ij\"],[2,\"kl\"],[0,\"mn\"],[6,\"op\"],[5,\"qr\"], [120, \"outlier\"]]\n",
    "schema = [(\"data\", float),(\"name\", str)]\n",
    "\n",
    "frame = tc.frame.create(data, schema)\n",
    "frame.inspect()"
   ]
  },
  {
   "cell_type": "code",
   "execution_count": null,
   "metadata": {
    "collapsed": true
   },
   "outputs": [],
   "source": [
    "# Consider the following frame containing two columns.\n",
    "frame.inspect()"
   ]
  },
  {
   "cell_type": "code",
   "execution_count": null,
   "metadata": {
    "collapsed": true
   },
   "outputs": [],
   "source": [
    "# DAAL KMeans model is trained using the frame from above\n",
    "model = tc.daaltk.models.clustering.kmeans.train(frame, [\"data\"], k=2, max_iterations=20)\n",
    "model"
   ]
  },
  {
   "cell_type": "code",
   "execution_count": null,
   "metadata": {
    "collapsed": true
   },
   "outputs": [],
   "source": [
    "#call the modelto predict\n",
    "predicted_frame = model.predict(frame, [\"data\"])\n",
    "predicted_frame.inspect()"
   ]
  }
 ],
 "metadata": {
  "anaconda-cloud": {},
  "kernelspec": {
   "display_name": "Python [conda root]",
   "language": "python",
   "name": "conda-root-py"
  },
  "language_info": {
   "codemirror_mode": {
    "name": "ipython",
    "version": 2
   },
   "file_extension": ".py",
   "mimetype": "text/x-python",
   "name": "python",
   "nbconvert_exporter": "python",
   "pygments_lexer": "ipython2",
   "version": "2.7.12"
  }
 },
 "nbformat": 4,
 "nbformat_minor": 1
}
