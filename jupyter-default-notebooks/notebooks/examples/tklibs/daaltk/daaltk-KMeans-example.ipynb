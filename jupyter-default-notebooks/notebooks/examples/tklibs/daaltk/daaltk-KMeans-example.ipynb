{
 "cells": [
  {
   "cell_type": "markdown",
   "metadata": {},
   "source": [
    "# DAAL KMeans\n",
    "\n",
    "K-Means is among the most popular and simplest clustering methods. It is intended to partition a data set into a small number of clusters such that feature vectors within a cluster have greater similarity with one another than with feature vectors from other clusters. Each cluster is characterized by a representative point, called a centroid, and a cluster radius.\n",
    "\n",
    "In other words, the clustering methods enable reducing the problem of analysis of the entire data set to the analysis of clusters.\n",
    "\n",
    "- Read more about [KMeans in the intel developer zone](https://software.intel.com/en-us/node/564616)\n",
    "- See [daaltk Documentation](https://github.com/trustedanalytics/daal-tk) for more information about the the API's"
   ]
  },
  {
   "cell_type": "code",
   "execution_count": 1,
   "metadata": {
    "collapsed": false
   },
   "outputs": [
    {
     "name": "stdout",
     "output_type": "stream",
     "text": [
      "sparktk installation path = ['/opt/anaconda2/lib/python2.7/site-packages/sparktk']\n",
      "daaltk installation path = ['/opt/anaconda2/lib/python2.7/site-packages/daaltk']\n"
     ]
    }
   ],
   "source": [
    "# First, let's verify that the SparkTK and daaltk libraries are installed\n",
    "import sparktk\n",
    "import daaltk\n",
    "\n",
    "print \"sparktk installation path = %s\" % (sparktk.__path__)\n",
    "print \"daaltk installation path = %s\" % (daaltk.__path__)"
   ]
  },
  {
   "cell_type": "code",
   "execution_count": 2,
   "metadata": {
    "collapsed": true
   },
   "outputs": [],
   "source": [
    "from sparktk import TkContext\n",
    "tc = sparktk.TkContext(other_libs=[daaltk])"
   ]
  },
  {
   "cell_type": "code",
   "execution_count": 3,
   "metadata": {
    "collapsed": false
   },
   "outputs": [
    {
     "data": {
      "text/plain": [
       "[#]  data  name   \n",
       "==================\n",
       "[0]     2  ab\n",
       "[1]     1  cd\n",
       "[2]     7  ef\n",
       "[3]     1  gh\n",
       "[4]     9  ij\n",
       "[5]     2  kl\n",
       "[6]     0  mn\n",
       "[7]     6  op\n",
       "[8]     5  qr\n",
       "[9]   120  outlier"
      ]
     },
     "execution_count": 3,
     "metadata": {},
     "output_type": "execute_result"
    }
   ],
   "source": [
    "# Create a new frame by providing data and schema\n",
    "data = [[2,\"ab\"],[1,\"cd\"],[7,\"ef\"],[1,\"gh\"],[9,\"ij\"],[2,\"kl\"],[0,\"mn\"],[6,\"op\"],[5,\"qr\"], [120, \"outlier\"]]\n",
    "schema = [(\"data\", float),(\"name\", str)]\n",
    "\n",
    "frame = tc.frame.create(data, schema)\n",
    "frame.inspect()"
   ]
  },
  {
   "cell_type": "code",
   "execution_count": 4,
   "metadata": {
    "collapsed": false
   },
   "outputs": [
    {
     "data": {
      "text/plain": [
       "[#]  data  name   \n",
       "==================\n",
       "[0]     2  ab\n",
       "[1]     1  cd\n",
       "[2]     7  ef\n",
       "[3]     1  gh\n",
       "[4]     9  ij\n",
       "[5]     2  kl\n",
       "[6]     0  mn\n",
       "[7]     6  op\n",
       "[8]     5  qr\n",
       "[9]   120  outlier"
      ]
     },
     "execution_count": 4,
     "metadata": {},
     "output_type": "execute_result"
    }
   ],
   "source": [
    "# Consider the following frame containing two columns.\n",
    "frame.inspect()"
   ]
  },
  {
   "cell_type": "code",
   "execution_count": 5,
   "metadata": {
    "collapsed": false
   },
   "outputs": [
    {
     "data": {
      "text/plain": [
       "centroids           = {u'Cluster:1': [120.0], u'Cluster:0': [3.6666666666666665]}\n",
       "cluster_sizes       = {u'Cluster:1': 1L, u'Cluster:0': 9L}\n",
       "column_scalings     = []\n",
       "k                   = 2\n",
       "label_column        = predicted_cluster\n",
       "observation_columns = [u'data']"
      ]
     },
     "execution_count": 5,
     "metadata": {},
     "output_type": "execute_result"
    }
   ],
   "source": [
    "# DAAL KMeans model is trained using the frame from above\n",
    "model = tc.daaltk.models.clustering.kmeans.train(frame, [\"data\"], k=2, max_iterations=20)\n",
    "model"
   ]
  },
  {
   "cell_type": "code",
   "execution_count": 6,
   "metadata": {
    "collapsed": false
   },
   "outputs": [
    {
     "data": {
      "text/plain": [
       "[#]  data   name     distance_from_cluster_0  distance_from_cluster_1\n",
       "=====================================================================\n",
       "[0]    2.0  ab                 2.77777777778                  13924.0\n",
       "[1]    1.0  cd                 7.11111111111                  14161.0\n",
       "[2]    7.0  ef                 11.1111111111                  12769.0\n",
       "[3]    1.0  gh                 7.11111111111                  14161.0\n",
       "[4]    9.0  ij                 28.4444444444                  12321.0\n",
       "[5]    2.0  kl                 2.77777777778                  13924.0\n",
       "[6]    0.0  mn                 13.4444444444                  14400.0\n",
       "[7]    6.0  op                 5.44444444444                  12996.0\n",
       "[8]    5.0  qr                 1.77777777778                  13225.0\n",
       "[9]  120.0  outlier            13533.4444444                      0.0\n",
       "\n",
       "[#]  predicted_cluster\n",
       "======================\n",
       "[0]                  0\n",
       "[1]                  0\n",
       "[2]                  0\n",
       "[3]                  0\n",
       "[4]                  0\n",
       "[5]                  0\n",
       "[6]                  0\n",
       "[7]                  0\n",
       "[8]                  0\n",
       "[9]                  1"
      ]
     },
     "execution_count": 6,
     "metadata": {},
     "output_type": "execute_result"
    }
   ],
   "source": [
    "#call the modelto predict\n",
    "predicted_frame = model.predict(frame, [\"data\"])\n",
    "predicted_frame.inspect()"
   ]
  },
  {
   "cell_type": "code",
   "execution_count": 7,
   "metadata": {
    "collapsed": true
   },
   "outputs": [],
   "source": [
    "# Inspect HDFS directly using hdfsclient\n",
    "\n",
    "import hdfsclient\n",
    "from hdfsclient import ls, mkdir, rm, mv"
   ]
  },
  {
   "cell_type": "code",
   "execution_count": 8,
   "metadata": {
    "collapsed": false
   },
   "outputs": [],
   "source": [
    "try:\n",
    "    rm(\"sandbox/myKMeansModel\", recurse=True)\n",
    "except:\n",
    "    pass\n",
    "model.save(\"sandbox/myKMeansModel\")"
   ]
  },
  {
   "cell_type": "code",
   "execution_count": 9,
   "metadata": {
    "collapsed": true
   },
   "outputs": [],
   "source": [
    "restored = tc.load(\"sandbox/myKMeansModel\")"
   ]
  },
  {
   "cell_type": "code",
   "execution_count": 10,
   "metadata": {
    "collapsed": false
   },
   "outputs": [
    {
     "data": {
      "text/plain": [
       "centroids           = {u'Cluster:1': [120.0], u'Cluster:0': [3.6666666666666665]}\n",
       "cluster_sizes       = {u'Cluster:1': 1L, u'Cluster:0': 9L}\n",
       "column_scalings     = []\n",
       "k                   = 2\n",
       "label_column        = predicted_cluster\n",
       "observation_columns = [u'data']"
      ]
     },
     "execution_count": 10,
     "metadata": {},
     "output_type": "execute_result"
    }
   ],
   "source": [
    "restored"
   ]
  },
  {
   "cell_type": "code",
   "execution_count": 11,
   "metadata": {
    "collapsed": true
   },
   "outputs": [],
   "source": [
    "full_path = model.export_to_mar(\"sandbox/myKMeansModel.mar\")"
   ]
  },
  {
   "cell_type": "code",
   "execution_count": 12,
   "metadata": {
    "collapsed": false
   },
   "outputs": [
    {
     "data": {
      "text/plain": [
       "u'/home/vcap/jupyter/examples/tklibs/daaltk/sandbox/myKMeansModel.mar'"
      ]
     },
     "execution_count": 12,
     "metadata": {},
     "output_type": "execute_result"
    }
   ],
   "source": [
    "full_path"
   ]
  },
  {
   "cell_type": "code",
   "execution_count": 13,
   "metadata": {
    "collapsed": false
   },
   "outputs": [
    {
     "data": {
      "text/plain": [
       "<bound method KMeansModel.save of centroids           = {u'Cluster:1': [120.0], u'Cluster:0': [3.6666666666666665]}\n",
       "cluster_sizes       = {u'Cluster:1': 1L, u'Cluster:0': 9L}\n",
       "column_scalings     = []\n",
       "k                   = 2\n",
       "label_column        = predicted_cluster\n",
       "observation_columns = [u'data']>"
      ]
     },
     "execution_count": 13,
     "metadata": {},
     "output_type": "execute_result"
    }
   ],
   "source": [
    "model.save"
   ]
  }
 ],
 "metadata": {
  "anaconda-cloud": {},
  "kernelspec": {
   "display_name": "Python 2",
   "language": "python",
   "name": "python2"
  },
  "language_info": {
   "codemirror_mode": {
    "name": "ipython",
    "version": 2
   },
   "file_extension": ".py",
   "mimetype": "text/x-python",
   "name": "python",
   "nbconvert_exporter": "python",
   "pygments_lexer": "ipython2",
   "version": "2.7.12"
  }
 },
 "nbformat": 4,
 "nbformat_minor": 1
}
