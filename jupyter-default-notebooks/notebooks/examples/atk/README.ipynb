{
 "cells": [
  {
   "cell_type": "markdown",
   "metadata": {},
   "source": [
    "## ATK Client Help\n",
    "\n",
    "Helpfull links\n",
    "- [ATK Client documentation](http://trustedanalytics.github.io/atk/) if you ever need help.\n",
    "- [ATK git repo](https://github.com/trustedanalytics/atk) - ATK source code\n",
    "- [ATK pypi packages](https://pypi.python.org/pypi/trustedanalytics)\n",
    "- [TAP JIRA](https://trustedanalytics.atlassian.net) if you have bugs to file.\n",
    "- [TrustedAnalytics.org](http://trustedanalytics.org) - the main website for TAP\n",
    "\n",
    "See the other [ATK Examples](/tree/examples/atk) that come with TAP\n",
    "\n",
    "## TAP Menu\n",
    "\n",
    "On the right side of the tool bar you can find the **\"TAP Help\"** menu. There you can find all the links and code snippets provided here for a quick and easy reference."
   ]
  },
  {
   "cell_type": "markdown",
   "metadata": {
    "collapsed": true
   },
   "source": [
    "## Installing\n",
    "\n",
    "To install the client issue a pip install command with the **\"trustedanalytics\"** package name."
   ]
  },
  {
   "cell_type": "code",
   "execution_count": null,
   "metadata": {
    "collapsed": false
   },
   "outputs": [],
   "source": [
    "!pip install trustedanalytics "
   ]
  },
  {
   "cell_type": "markdown",
   "metadata": {},
   "source": [
    "## Installing specific version\n",
    "\n",
    "\n",
    "If you need to install a specific version of the client append **==** plus the client version to **trustedanalytics** package name."
   ]
  },
  {
   "cell_type": "code",
   "execution_count": null,
   "metadata": {
    "collapsed": false,
    "scrolled": true
   },
   "outputs": [],
   "source": [
    "!pip install trustedanalytics==0.4.1.post201509248706"
   ]
  },
  {
   "cell_type": "markdown",
   "metadata": {},
   "source": [
    "## Installing from ATK server\n",
    "\n",
    "If you don't happen to know the version you need you can also install the client directly from the ATK server as long as you know the URL."
   ]
  },
  {
   "cell_type": "code",
   "execution_count": null,
   "metadata": {
    "collapsed": false
   },
   "outputs": [],
   "source": [
    "#Replace YOUR_ATK_SERVER_URL with the URL to your ATK server instance. \n",
    "!pip install YOUR_ATK_SERVER_URL/client"
   ]
  },
  {
   "cell_type": "markdown",
   "metadata": {},
   "source": [
    " ## Connecting \n",
    " \n",
    " Before using the client you must create a credentials file to authenticate with the ATK server."
   ]
  },
  {
   "cell_type": "code",
   "execution_count": null,
   "metadata": {
    "collapsed": true
   },
   "outputs": [],
   "source": [
    "# First, let's verify that the ATK client libraries are installed\n",
    "import trustedanalytics as ta\n",
    "print \"ATK installation path = %s\" % (ta.__path__)"
   ]
  },
  {
   "cell_type": "code",
   "execution_count": null,
   "metadata": {
    "collapsed": true
   },
   "outputs": [],
   "source": [
    "# Next, look-up your ATK server URI from the TAP Console and enter the information below.\n",
    "# This setting will be needed in every ATK notebook so that the client knows what server to communicate with.\n",
    "\n",
    "# E.g. ta.server.uri = 'demo-atk-c07d8047.demotrustedanalytics.com'\n",
    "ta.server.uri = 'ENTER URI HERE'"
   ]
  },
  {
   "cell_type": "code",
   "execution_count": null,
   "metadata": {
    "collapsed": true
   },
   "outputs": [],
   "source": [
    "# Now we can create a credentials file.  This step will only need to be done once.\n",
    "# The file name passed to create_credentails_file() can be anything you like\n",
    "# but you must use the same name when executing ta.connect.\n",
    "ta.create_credentials_file('myuser-cred.creds')"
   ]
  },
  {
   "cell_type": "code",
   "execution_count": null,
   "metadata": {
    "collapsed": true
   },
   "outputs": [],
   "source": [
    "# Finally, we use the credentials file to connect to the ATK server.  \n",
    "# This step is needed at the beginning of every ATK notebook.\n",
    "ta.connect('myuser-cred.creds')"
   ]
  }
 ],
 "metadata": {
  "kernelspec": {
   "display_name": "Python 2",
   "language": "python",
   "name": "python2"
  },
  "language_info": {
   "codemirror_mode": {
    "name": "ipython",
    "version": 2
   },
   "file_extension": ".py",
   "mimetype": "text/x-python",
   "name": "python",
   "nbconvert_exporter": "python",
   "pygments_lexer": "ipython2",
   "version": "2.7.11"
  }
 },
 "nbformat": 4,
 "nbformat_minor": 0
}
