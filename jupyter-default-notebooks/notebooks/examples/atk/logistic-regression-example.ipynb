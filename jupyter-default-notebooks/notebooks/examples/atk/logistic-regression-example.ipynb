{
 "cells": [
  {
   "cell_type": "markdown",
   "metadata": {},
   "source": [
    "# Logistic Regression Example\n",
    "\n",
    "Logistic Regression is a widely used supervised binary and multi-class classification algorithm. The Logistic Regression model is initialized, trained on columns of a frame, predicts the labels of observations, and tests the predicted labels against the true labels. This model runs the [MLLib implementation](https://spark.apache.org/docs/1.5.0/mllib-linear-methods.html#logistic-regression) of Logistic Regression, with enhanced features — trained model summary statistics; Covariance and Hessian matrices; ability to specify the frequency of the train and test observations. Testing performance can be viewed via built-in binary and multi-class Classification Metrics. It also allows the user to select the optimizer to be used - [L-BFGS](https://en.wikipedia.org/wiki/Limited-memory_BFGS) or [SGD](https://en.wikipedia.org/wiki/Stochastic_gradient_descent).\n",
    "\n",
    "\n",
    "- Read more about [Logistic Regression in Wikipedia](https://en.wikipedia.org/wiki/Logistic_regression)\n",
    "- See [ATK Documentation](http://trustedanalytics.github.io/atk/) for more information about the the API's"
   ]
  },
  {
   "cell_type": "code",
   "execution_count": null,
   "metadata": {
    "collapsed": false,
    "scrolled": false
   },
   "outputs": [],
   "source": [
    "# First, let's verify that the ATK client libraries are installed\n",
    "import trustedanalytics as ta\n",
    "print \"ATK installation path = %s\" % (ta.__path__)"
   ]
  },
  {
   "cell_type": "code",
   "execution_count": null,
   "metadata": {
    "collapsed": false
   },
   "outputs": [],
   "source": [
    "# Next, look-up your ATK server URI from the TAP Console and enter the information below.\n",
    "# This setting will be needed in every ATK notebook so that the client knows what server to communicate with.\n",
    "\n",
    "# E.g. ta.server.uri = 'demo-atk-c07d8047.demotrustedanalytics.com'\n",
    "ta.server.uri = 'ENTER URI HERE'"
   ]
  },
  {
   "cell_type": "code",
   "execution_count": null,
   "metadata": {
    "collapsed": true
   },
   "outputs": [],
   "source": [
    "# This notebook assumes you have already created a credentials file.\n",
    "# Enter the path here to connect to ATK\n",
    "ta.connect('myuser-cred.creds')"
   ]
  },
  {
   "cell_type": "code",
   "execution_count": null,
   "metadata": {
    "collapsed": true
   },
   "outputs": [],
   "source": [
    "# Create a new frame by uploading rows\n",
    "frame = ta.Frame(ta.UploadRows([[4.9,1.4,0], \n",
    "                                [4.7,1.3,0], \n",
    "                                [4.6,1.5,0], \n",
    "                                [6.3,4.9,1],\n",
    "                                [6.1,4.7,1], \n",
    "                                [6.4,4.3,1], \n",
    "                                [6.6,4.4,1], \n",
    "                                [7.2,6.0,2],\n",
    "                                [7.2,5.8,2], \n",
    "                                [7.4,6.1,2], \n",
    "                                [7.9,6.4,2]],\n",
    "                                 [('Sepal_Length', ta.float64),('Petal_Length', ta.float64), ('Class', int)]))"
   ]
  },
  {
   "cell_type": "code",
   "execution_count": null,
   "metadata": {
    "collapsed": true
   },
   "outputs": [],
   "source": [
    "# Consider the following frame containing three columns.\n",
    "frame.inspect()"
   ]
  },
  {
   "cell_type": "code",
   "execution_count": null,
   "metadata": {
    "collapsed": true
   },
   "outputs": [],
   "source": [
    "# Create a new model and train it\n",
    "model = ta.LogisticRegressionModel()\n",
    "\n",
    "train_output = model.train(frame, 'Class', ['Sepal_Length', 'Petal_Length'],\n",
    "                           num_classes=3, optimizer='LBFGS', compute_covariance=True)"
   ]
  },
  {
   "cell_type": "code",
   "execution_count": null,
   "metadata": {
    "collapsed": true
   },
   "outputs": [],
   "source": [
    "train_output.summary_table"
   ]
  },
  {
   "cell_type": "code",
   "execution_count": null,
   "metadata": {
    "collapsed": true
   },
   "outputs": [],
   "source": [
    "# The covariance matrix is the inverse of the Hessian matrix for the trained model. \n",
    "# The Hessian matrix is the second-order partial derivatives of the model’s log-likelihood function\n",
    "train_output.covariance_matrix.inspect()"
   ]
  },
  {
   "cell_type": "code",
   "execution_count": null,
   "metadata": {
    "collapsed": true
   },
   "outputs": [],
   "source": [
    "# Use the model to make predictions\n",
    "predicted_frame = model.predict(frame, ['Sepal_Length', 'Petal_Length'])\n",
    "\n",
    "predicted_frame.inspect()"
   ]
  },
  {
   "cell_type": "code",
   "execution_count": null,
   "metadata": {
    "collapsed": true
   },
   "outputs": [],
   "source": [
    "# Test the model\n",
    "test_metrics = model.test(frame, 'Class', ['Sepal_Length', 'Petal_Length'])\n",
    "test_metrics"
   ]
  }
 ],
 "metadata": {
  "kernelspec": {
   "display_name": "Python 2",
   "language": "python",
   "name": "python2"
  },
  "language_info": {
   "codemirror_mode": {
    "name": "ipython",
    "version": 2
   },
   "file_extension": ".py",
   "mimetype": "text/x-python",
   "name": "python",
   "nbconvert_exporter": "python",
   "pygments_lexer": "ipython2",
   "version": "2.7.11"
  }
 },
 "nbformat": 4,
 "nbformat_minor": 0
}
