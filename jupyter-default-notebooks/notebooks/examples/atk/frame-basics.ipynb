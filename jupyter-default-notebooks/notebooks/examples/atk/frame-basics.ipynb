{
 "cells": [
  {
   "cell_type": "markdown",
   "metadata": {},
   "source": [
    "# Frame Basics\n",
    "\n",
    "This notebook shows some of the basics of working with ATK frames.  The ATK frame acts as a proxy object to a large table of data on the server, with properties and functions to operate on that frame.\n",
    "\n",
    "- See [ATK Documentation](http://trustedanalytics.github.io/atk/) for more information about the the API's"
   ]
  },
  {
   "cell_type": "code",
   "execution_count": null,
   "metadata": {
    "collapsed": false,
    "scrolled": false
   },
   "outputs": [],
   "source": [
    "# First, let's verify that the ATK client libraries are installed\n",
    "import trustedanalytics as ta\n",
    "print \"ATK installation path = %s\" % (ta.__path__)"
   ]
  },
  {
   "cell_type": "code",
   "execution_count": null,
   "metadata": {
    "collapsed": false
   },
   "outputs": [],
   "source": [
    "# Next, look-up your ATK server URI from the TAP Console and enter the information below.\n",
    "# This setting will be needed in every ATK notebook so that the client knows what server to communicate with.\n",
    "\n",
    "# E.g. ta.server.uri = 'demo-atk-c07d8047.demotrustedanalytics.com'\n",
    "ta.server.uri = 'ENTER URI HERE'"
   ]
  },
  {
   "cell_type": "code",
   "execution_count": null,
   "metadata": {
    "collapsed": false
   },
   "outputs": [],
   "source": [
    "# This notebook assumes you have already created a credentials file.\n",
    "# Enter the path here to connect to ATK\n",
    "ta.connect('myuser-cred.creds')"
   ]
  },
  {
   "cell_type": "code",
   "execution_count": null,
   "metadata": {
    "collapsed": false
   },
   "outputs": [],
   "source": [
    "# Create a new frame by uploading rows\n",
    "data = [ ['a', 1], \n",
    "         ['b', 2], \n",
    "         ['c', 3], \n",
    "         ['b', 4],     \n",
    "         ['a', 5] ]\n",
    "\n",
    "schema = [ ('letter', str),\n",
    "           ('number', ta.int64) ]\n",
    "\n",
    "frame = ta.Frame(ta.UploadRows(data, schema))"
   ]
  },
  {
   "cell_type": "code",
   "execution_count": null,
   "metadata": {
    "collapsed": false
   },
   "outputs": [],
   "source": [
    "# View the first few rows of a frame\n",
    "frame.inspect()"
   ]
  },
  {
   "cell_type": "code",
   "execution_count": null,
   "metadata": {
    "collapsed": false
   },
   "outputs": [],
   "source": [
    "# View a specfic number of rows of a frame\n",
    "frame.inspect(2)"
   ]
  },
  {
   "cell_type": "code",
   "execution_count": null,
   "metadata": {
    "collapsed": false
   },
   "outputs": [],
   "source": [
    "# Add a column to the frame\n",
    "frame.add_columns(lambda row: row.number * 2, ('number_doubled', ta.int64))\n",
    "frame.inspect()"
   ]
  },
  {
   "cell_type": "code",
   "execution_count": null,
   "metadata": {
    "collapsed": false
   },
   "outputs": [],
   "source": [
    "# Get summary information for a column\n",
    "frame.column_summary_statistics('number_doubled')"
   ]
  },
  {
   "cell_type": "code",
   "execution_count": null,
   "metadata": {
    "collapsed": false
   },
   "outputs": [],
   "source": [
    "# Add a column with the cumulative sum of the number column\n",
    "frame.cumulative_sum('number')\n",
    "frame.inspect()"
   ]
  },
  {
   "cell_type": "code",
   "execution_count": null,
   "metadata": {
    "collapsed": false
   },
   "outputs": [],
   "source": [
    "# Rename a column\n",
    "frame.rename_columns({ 'number_doubled': \"x2\" })\n",
    "frame.inspect()"
   ]
  },
  {
   "cell_type": "code",
   "execution_count": null,
   "metadata": {
    "collapsed": false
   },
   "outputs": [],
   "source": [
    "# Sort the frame by column 'number' descending\n",
    "frame.sort('number', False)\n",
    "frame.inspect()"
   ]
  },
  {
   "cell_type": "code",
   "execution_count": null,
   "metadata": {
    "collapsed": false
   },
   "outputs": [],
   "source": [
    "# Remove a column from the frame\n",
    "frame.drop_columns(\"x2\")\n",
    "frame.inspect()"
   ]
  },
  {
   "cell_type": "code",
   "execution_count": null,
   "metadata": {
    "collapsed": false
   },
   "outputs": [],
   "source": [
    "# Download a frame from ATK to pandas\n",
    "pandas_frame = frame.download(columns=['letter', 'number'])\n",
    "pandas_frame"
   ]
  },
  {
   "cell_type": "code",
   "execution_count": null,
   "metadata": {
    "collapsed": false
   },
   "outputs": [],
   "source": [
    "# Calculate aggregations on the frame\n",
    "results = frame.group_by('letter', ta.agg.count, {'number': [ta.agg.avg, ta.agg.sum, ta.agg.min] })\n",
    "results.inspect()"
   ]
  },
  {
   "cell_type": "code",
   "execution_count": null,
   "metadata": {
    "collapsed": false
   },
   "outputs": [],
   "source": [
    "# Count the number of rows satisfying a predicate\n",
    "frame.count(lambda row: row.number > 2)"
   ]
  },
  {
   "cell_type": "markdown",
   "metadata": {
    "collapsed": true
   },
   "source": [
    "Many more frame operations are available.  See the [ATK Documentation](http://trustedanalytics.github.io/atk/)."
   ]
  },
  {
   "cell_type": "code",
   "execution_count": null,
   "metadata": {
    "collapsed": true
   },
   "outputs": [],
   "source": []
  }
 ],
 "metadata": {
  "kernelspec": {
   "display_name": "Python 2",
   "language": "python",
   "name": "python2"
  },
  "language_info": {
   "codemirror_mode": {
    "name": "ipython",
    "version": 2
   },
   "file_extension": ".py",
   "mimetype": "text/x-python",
   "name": "python",
   "nbconvert_exporter": "python",
   "pygments_lexer": "ipython2",
   "version": "2.7.11"
  }
 },
 "nbformat": 4,
 "nbformat_minor": 0
}
