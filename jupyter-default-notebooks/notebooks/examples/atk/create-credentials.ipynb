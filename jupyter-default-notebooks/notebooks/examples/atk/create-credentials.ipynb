{
 "cells": [
  {
   "cell_type": "code",
   "execution_count": null,
   "metadata": {
    "collapsed": false,
    "scrolled": false
   },
   "outputs": [],
   "source": [
    "# This notebook shows how to create a credentials file and connect to ATK.\n",
    "\n",
    "# First, let's verify that the ATK client libraries are installed\n",
    "import trustedanalytics as ta\n",
    "print \"ATK installation path = %s\" % (ta.__path__)"
   ]
  },
  {
   "cell_type": "code",
   "execution_count": null,
   "metadata": {
    "collapsed": false
   },
   "outputs": [],
   "source": [
    "# Next, look-up your ATK server URI from the TAP Console and enter the information below.\n",
    "# This setting will be needed in every ATK notebook so that the client knows what server to communicate with.\n",
    "\n",
    "# E.g. ta.server.uri = 'demo-atk-c07d8047.demotrustedanalytics.com'\n",
    "ta.server.uri = 'ENTER URI HERE'"
   ]
  },
  {
   "cell_type": "code",
   "execution_count": null,
   "metadata": {
    "collapsed": false
   },
   "outputs": [],
   "source": [
    "# Now we can create a credentials file.  This step will only need to be done once.\n",
    "# The file name passed to create_credentails_file() can be anything you like\n",
    "# but you must use the same name when executing ta.connect.\n",
    "ta.create_credentials_file('myuser-cred.creds')"
   ]
  },
  {
   "cell_type": "code",
   "execution_count": null,
   "metadata": {
    "collapsed": true
   },
   "outputs": [],
   "source": [
    "# Finally, we use the credentials file to connect to the ATK server.  This step is needed at the beginning of every ATK notebook.\n",
    "ta.connect('myuser-cred.creds')"
   ]
  }
 ],
 "metadata": {
  "kernelspec": {
   "display_name": "Python 2",
   "language": "python",
   "name": "python2"
  },
  "language_info": {
   "codemirror_mode": {
    "name": "ipython",
    "version": 2
   },
   "file_extension": ".py",
   "mimetype": "text/x-python",
   "name": "python",
   "nbconvert_exporter": "python",
   "pygments_lexer": "ipython2",
   "version": "2.7.6"
  }
 },
 "nbformat": 4,
 "nbformat_minor": 0
}
