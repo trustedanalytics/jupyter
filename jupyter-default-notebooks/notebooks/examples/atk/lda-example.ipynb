{
 "cells": [
  {
   "cell_type": "markdown",
   "metadata": {},
   "source": [
    "# Latent Dirichlet Allocation Example\n",
    "\n",
    "LDA, short for Latent Dirichlet Allocation, is a commonly-used algorithm for topic modeling, but, more broadly, is considered a dimensionality reduction technique.. For example, given a number of documents, LDA can group the texts on similar topics together based on whether they contain similar words. LDA is an unsupervised algorithm, meaning that the groups are created based on the similarity to each other, rather than by comparing them to an idealized or standardized dataset.\n",
    "\n",
    "- Read more about [LDA in Wikipedia](https://en.wikipedia.org/wiki/Latent_Dirichlet_allocation)\n",
    "- See [ATK Documentation](http://trustedanalytics.github.io/atk/) for more information about the the API's"
   ]
  },
  {
   "cell_type": "code",
   "execution_count": null,
   "metadata": {
    "collapsed": false,
    "scrolled": false
   },
   "outputs": [],
   "source": [
    "# First, let's verify that the ATK client libraries are installed\n",
    "import trustedanalytics as ta\n",
    "print \"ATK installation path = %s\" % (ta.__path__)"
   ]
  },
  {
   "cell_type": "code",
   "execution_count": null,
   "metadata": {
    "collapsed": false
   },
   "outputs": [],
   "source": [
    "# Next, look-up your ATK server URI from the TAP Console and enter the information below.\n",
    "# This setting will be needed in every ATK notebook so that the client knows what server to communicate with.\n",
    "\n",
    "# E.g. ta.server.uri = 'demo-atk-c07d8047.demotrustedanalytics.com'\n",
    "ta.server.uri = 'ENTER URI HERE'"
   ]
  },
  {
   "cell_type": "code",
   "execution_count": null,
   "metadata": {
    "collapsed": false
   },
   "outputs": [],
   "source": [
    "# This notebook assumes you have already created a credentials file.\n",
    "# Enter the path here to connect to ATK\n",
    "ta.connect('myuser-cred.creds')"
   ]
  },
  {
   "cell_type": "code",
   "execution_count": null,
   "metadata": {
    "collapsed": false
   },
   "outputs": [],
   "source": [
    "# Create a new frame by uploading rows\n",
    "data = [ ['nytimes','harry',3], \n",
    "        ['nytimes','economy',35], \n",
    "        ['nytimes','jobs',40], \n",
    "        ['nytimes','magic',1],     \n",
    "        ['nytimes','realestate',15], \n",
    "        ['nytimes','movies',6], \n",
    "        ['economist','economy',50], \n",
    "        ['economist','jobs',35], \n",
    "        ['economist','realestate',20], \n",
    "        ['economist','movies',1], \n",
    "        ['economist','harry',1], \n",
    "        ['economist','magic',1], \n",
    "        ['harrypotter','harry',40], \n",
    "        ['harrypotter','magic',30], \n",
    "        ['harrypotter','chamber',20], \n",
    "        ['harrypotter','secrets',30] ]\n",
    "\n",
    "schema = [ ('doc_id', str),\n",
    "          ('word_id', str),\n",
    "          ('word_count', ta.int64) ]\n",
    "\n",
    "frame = ta.Frame(ta.UploadRows(data, schema))"
   ]
  },
  {
   "cell_type": "code",
   "execution_count": null,
   "metadata": {
    "collapsed": false
   },
   "outputs": [],
   "source": [
    "# Consider the following frame containing three columns.\n",
    "frame.inspect()"
   ]
  },
  {
   "cell_type": "markdown",
   "metadata": {},
   "source": [
    "### Create a new model and train it"
   ]
  },
  {
   "cell_type": "code",
   "execution_count": null,
   "metadata": {
    "collapsed": false
   },
   "outputs": [],
   "source": [
    "model = ta.LdaModel()\n",
    "\n",
    "# LDA model is trained using the frame above.\n",
    "results = model.train(frame, 'doc_id', 'word_id', 'word_count', \n",
    "                      max_iterations = 3, num_topics = 2)"
   ]
  },
  {
   "cell_type": "markdown",
   "metadata": {},
   "source": [
    "### Compute topic probabilities for document"
   ]
  },
  {
   "cell_type": "code",
   "execution_count": null,
   "metadata": {
    "collapsed": false
   },
   "outputs": [],
   "source": [
    "topics_given_doc = results['topics_given_doc']\n",
    "word_given_topics = results['word_given_topics']\n",
    "topics_given_word = results['topics_given_word']\n",
    "report = results['report']\n",
    "\n",
    "print topics_given_doc.inspect()\n",
    "\n",
    "print \"\\n %s\" %(report)\n",
    "\n",
    "prediction = model.predict(['harry', 'economy', 'magic', 'harry' 'test'])\n",
    "print(prediction)"
   ]
  },
  {
   "cell_type": "markdown",
   "metadata": {},
   "source": [
    "### Compute LDA score"
   ]
  },
  {
   "cell_type": "code",
   "execution_count": null,
   "metadata": {
    "collapsed": false
   },
   "outputs": [],
   "source": [
    "topics_given_doc.rename_columns({'topic_probabilities' : 'lda_topic_given_doc'})\n",
    "word_given_topics.rename_columns({'topic_probabilities' : 'lda_word_given_topic'})\n",
    "\n",
    "frame= frame.join(topics_given_doc, left_on=\"doc_id\", right_on=\"doc_id\", how=\"left\")\n",
    "frame= frame.join(word_given_topics, left_on=\"word_id\", right_on=\"word_id\", how=\"left\")\n",
    "\n",
    "frame.dot_product(['lda_topic_given_doc'], ['lda_word_given_topic'], 'lda_score')\n",
    "print frame.inspect()"
   ]
  },
  {
   "cell_type": "markdown",
   "metadata": {},
   "source": [
    "### Compute histogram of scores"
   ]
  },
  {
   "cell_type": "code",
   "execution_count": null,
   "metadata": {
    "collapsed": false
   },
   "outputs": [],
   "source": [
    "word_hist = frame.histogram('word_count')\n",
    "lda_hist = frame.histogram('lda_score')\n",
    "group_frame = frame.group_by('word_id_L', \n",
    "                             {'word_count': ta.agg.histogram(word_hist.cutoffs), \n",
    "                              'lda_score':  ta.agg.histogram(lda_hist.cutoffs)})\n",
    "group_frame.inspect()"
   ]
  }
 ],
 "metadata": {
  "kernelspec": {
   "display_name": "Python 2",
   "language": "python",
   "name": "python2"
  },
  "language_info": {
   "codemirror_mode": {
    "name": "ipython",
    "version": 2
   },
   "file_extension": ".py",
   "mimetype": "text/x-python",
   "name": "python",
   "nbconvert_exporter": "python",
   "pygments_lexer": "ipython2",
   "version": "2.7.11"
  }
 },
 "nbformat": 4,
 "nbformat_minor": 0
}
