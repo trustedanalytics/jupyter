{
 "cells": [
  {
   "cell_type": "markdown",
   "metadata": {},
   "source": [
    "# PySpark Linear Regression\n",
    "\n",
    "This notebook demonstrates Linear Regression in PySpark.\n",
    "\n",
    "Several [Spark examples](/tree/examples/spark) are included with TAP.\n",
    "\n",
    "More examples are available on the Spark website: http://spark.apache.org/examples.html\n",
    "\n",
    "PySpark API documentation: http://spark.apache.org/docs/latest/api/python/"
   ]
  },
  {
   "cell_type": "code",
   "execution_count": 1,
   "metadata": {
    "collapsed": true
   },
   "outputs": [],
   "source": [
    "# Import the needed libraries\n",
    "import pyspark\n",
    "from pyspark.mllib.linalg import Vectors\n",
    "from pyspark.ml.regression import LinearRegression\n",
    "\n",
    "# Create a SparkContext in local mode\n",
    "sc = pyspark.SparkContext(\"local\")\n",
    "\n",
    "# Create a SqlContext from the SparkContext\n",
    "sqlContext = pyspark.SQLContext(sc)"
   ]
  },
  {
   "cell_type": "code",
   "execution_count": 2,
   "metadata": {
    "collapsed": false
   },
   "outputs": [
    {
     "data": {
      "text/html": [
       "<div>\n",
       "<table border=\"1\" class=\"dataframe\">\n",
       "  <thead>\n",
       "    <tr style=\"text-align: right;\">\n",
       "      <th></th>\n",
       "      <th>price</th>\n",
       "      <th>features</th>\n",
       "    </tr>\n",
       "  </thead>\n",
       "  <tbody>\n",
       "    <tr>\n",
       "      <th>0</th>\n",
       "      <td>300000.0</td>\n",
       "      <td>[2000.0, 3.0]</td>\n",
       "    </tr>\n",
       "    <tr>\n",
       "      <th>1</th>\n",
       "      <td>500000.0</td>\n",
       "      <td>[4000.0, 4.0]</td>\n",
       "    </tr>\n",
       "    <tr>\n",
       "      <th>2</th>\n",
       "      <td>250000.0</td>\n",
       "      <td>[1500.0, 2.0]</td>\n",
       "    </tr>\n",
       "    <tr>\n",
       "      <th>3</th>\n",
       "      <td>165000.0</td>\n",
       "      <td>[1200.0, 1.0]</td>\n",
       "    </tr>\n",
       "    <tr>\n",
       "      <th>4</th>\n",
       "      <td>325000.0</td>\n",
       "      <td>[2500.0, 3.0]</td>\n",
       "    </tr>\n",
       "    <tr>\n",
       "      <th>5</th>\n",
       "      <td>275000.0</td>\n",
       "      <td>[1900.0, 3.0]</td>\n",
       "    </tr>\n",
       "  </tbody>\n",
       "</table>\n",
       "</div>"
      ],
      "text/plain": [
       "      price       features\n",
       "0  300000.0  [2000.0, 3.0]\n",
       "1  500000.0  [4000.0, 4.0]\n",
       "2  250000.0  [1500.0, 2.0]\n",
       "3  165000.0  [1200.0, 1.0]\n",
       "4  325000.0  [2500.0, 3.0]\n",
       "5  275000.0  [1900.0, 3.0]"
      ]
     },
     "execution_count": 2,
     "metadata": {},
     "output_type": "execute_result"
    }
   ],
   "source": [
    "# Setup some fictional housing data\n",
    "data = [ \n",
    "    # price, sqft, bedrooms\n",
    "    ( 300000.0, Vectors.dense( 2000.0, 3.0 ) ),\n",
    "    ( 500000.0, Vectors.dense( 4000.0, 4.0 ) ),\n",
    "    ( 250000.0, Vectors.dense( 1500.0, 2.0 ) ),\n",
    "    ( 165000.0, Vectors.dense( 1200.0, 1.0 ) ),\n",
    "    ( 325000.0, Vectors.dense( 2500.0, 3.0 ) ),\n",
    "    ( 275000.0, Vectors.dense( 1900.0, 3.0 ) ) \n",
    "]\n",
    "\n",
    "# Create a DataFrame\n",
    "df = sqlContext.createDataFrame(data, ['price', 'features'])\n",
    "\n",
    "# Convert to a Pandas DataFrame for easy display\n",
    "df.toPandas()"
   ]
  },
  {
   "cell_type": "code",
   "execution_count": 3,
   "metadata": {
    "collapsed": false
   },
   "outputs": [
    {
     "name": "stdout",
     "output_type": "stream",
     "text": [
      "intercept: 44371.19263\n",
      "weights: [87.4223438377,25221.2587467]\n"
     ]
    }
   ],
   "source": [
    "# Setup LinearRegression\n",
    "lr = LinearRegression(maxIter=5, regParam=0.0, labelCol=\"price\")\n",
    "\n",
    "# Train the model\n",
    "model = lr.fit(df)\n",
    "\n",
    "# View properties of the trained model\n",
    "print \"intercept: \" + str(model.intercept)\n",
    "print \"weights: \" + str(model.weights)"
   ]
  },
  {
   "cell_type": "code",
   "execution_count": 4,
   "metadata": {
    "collapsed": false
   },
   "outputs": [
    {
     "data": {
      "text/html": [
       "<div>\n",
       "<table border=\"1\" class=\"dataframe\">\n",
       "  <thead>\n",
       "    <tr style=\"text-align: right;\">\n",
       "      <th></th>\n",
       "      <th>features</th>\n",
       "      <th>prediction</th>\n",
       "    </tr>\n",
       "  </thead>\n",
       "  <tbody>\n",
       "    <tr>\n",
       "      <th>0</th>\n",
       "      <td>[2700.0, 3.0]</td>\n",
       "      <td>356075.297232</td>\n",
       "    </tr>\n",
       "    <tr>\n",
       "      <th>1</th>\n",
       "      <td>[1700.0, 3.0]</td>\n",
       "      <td>268652.953394</td>\n",
       "    </tr>\n",
       "    <tr>\n",
       "      <th>2</th>\n",
       "      <td>[1700.0, 2.0]</td>\n",
       "      <td>243431.694647</td>\n",
       "    </tr>\n",
       "    <tr>\n",
       "      <th>3</th>\n",
       "      <td>[1000.0, 1.0]</td>\n",
       "      <td>157014.795214</td>\n",
       "    </tr>\n",
       "  </tbody>\n",
       "</table>\n",
       "</div>"
      ],
      "text/plain": [
       "        features     prediction\n",
       "0  [2700.0, 3.0]  356075.297232\n",
       "1  [1700.0, 3.0]  268652.953394\n",
       "2  [1700.0, 2.0]  243431.694647\n",
       "3  [1000.0, 1.0]  157014.795214"
      ]
     },
     "execution_count": 4,
     "metadata": {},
     "output_type": "execute_result"
    }
   ],
   "source": [
    "# Setup data that we want to do predictions for\n",
    "dataToPredict = [\n",
    "    # sqft, bedrooms\n",
    "    ( Vectors.dense(2700.0, 3.0), ),\n",
    "    ( Vectors.dense(1700.0, 3.0), ),\n",
    "    ( Vectors.dense(1700.0, 2.0), ),\n",
    "    ( Vectors.dense(1000.0, 1.0), )\n",
    "]\n",
    "\n",
    "# Create a DataFrame\n",
    "dfToPredict = sqlContext.createDataFrame(dataToPredict, [\"features\"])\n",
    "     \n",
    "# Use the model to predict housing prices\n",
    "predictions = model.transform(dfToPredict)\n",
    "\n",
    "# Convert to a Pandas DataFrame for easy display\n",
    "predictions.toPandas()"
   ]
  },
  {
   "cell_type": "markdown",
   "metadata": {},
   "source": [
    "## Stop the Spark Context"
   ]
  },
  {
   "cell_type": "code",
   "execution_count": 5,
   "metadata": {
    "collapsed": true
   },
   "outputs": [],
   "source": [
    "# Stop the context when you are done with it. When you stop the SparkContext resources \n",
    "# are released and no further operations can be performed within that context\n",
    "sc.stop()"
   ]
  }
 ],
 "metadata": {
  "kernelspec": {
   "display_name": "Python 2",
   "language": "python",
   "name": "python2"
  },
  "language_info": {
   "codemirror_mode": {
    "name": "ipython",
    "version": 2
   },
   "file_extension": ".py",
   "mimetype": "text/x-python",
   "name": "python",
   "nbconvert_exporter": "python",
   "pygments_lexer": "ipython2",
   "version": "2.7.11"
  }
 },
 "nbformat": 4,
 "nbformat_minor": 0
}
