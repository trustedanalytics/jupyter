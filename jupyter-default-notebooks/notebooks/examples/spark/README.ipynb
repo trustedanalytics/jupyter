{
 "cells": [
  {
   "cell_type": "markdown",
   "metadata": {},
   "source": [
    "# Spark README\n",
    "\n",
    "Apache Spark&trade; is a general engine for cluster scale computing. It provides API's for multiple languages including Python, Scala, and SQL.\n",
    "\n",
    "This notebook shows how to run Spark in both local and yarn-client modes within TAP, as well as using Spark Submit.\n",
    "\n",
    "Several [Spark examples](/tree/examples/spark) are included with TAP and [others](http://spark.apache.org/examples.html) are available on the [Spark website](http://spark.apache.org/)\n",
    "\n",
    "See the [PySpark API documentation](http://spark.apache.org/docs/latest/api/python/) for more information on the API's below.\n",
    "\n",
    "## Supported Modes\n",
    "\n",
    "Currently the YARN scheduler is supported on TAP and Spark jobs can be ran in three different modes:\n",
    "\n",
    "Mode | Good for Big Data | Supports Interactive Sessions | Supports Batch Jobs | Runtime | Use With | Best For\n",
    "---------- | --- | -- | --- | --- | --------------- | ----------------- | ------------------------------\n",
    "**Local mode** | No | Yes | Yes | Both driver and workers run locally | pyspark, spark-shell, spark-submit | Fast small scale testing in an interactive shell or batch.  Best mode to start with if you are new to Spark.\n",
    "**Yarn Client** | Yes | Yes | Yes | Driver runs locally and workers run in cluster | pyspark, spark-shell, spark-submit | Big data in an interactive shell.\n",
    "**Yarn Cluster** | Yes | No | Yes | Both driver and workers run in cluster | spark-submit | Big data batch jobs.\n",
    "\n",
    "More information is avaialable in the [Spark Documentation](http://spark.apache.org/docs/latest/)"
   ]
  },
  {
   "cell_type": "markdown",
   "metadata": {},
   "source": [
    "## Create a SparkContext in local mode\n",
    "\n",
    "In local mode no cluster resources are used.  It is easy to setup and is good for small scale testing."
   ]
  },
  {
   "cell_type": "code",
   "execution_count": null,
   "metadata": {
    "collapsed": true
   },
   "outputs": [],
   "source": [
    "import pyspark\n",
    "\n",
    "# Create a SparkContext in local mode\n",
    "sc = pyspark.SparkContext(\"local\")"
   ]
  },
  {
   "cell_type": "code",
   "execution_count": null,
   "metadata": {
    "collapsed": false
   },
   "outputs": [],
   "source": [
    "# Test the context is working by creating an RDD and performing a simple operation\n",
    "rdd = sc.parallelize(range(10))\n",
    "print rdd.count()"
   ]
  },
  {
   "cell_type": "code",
   "execution_count": null,
   "metadata": {
    "collapsed": false
   },
   "outputs": [],
   "source": [
    "# Find out ore information about your SparkContext\n",
    "print 'Python Version: ' + sc.pythonVer\n",
    "print 'Spark Version: ' + sc.version\n",
    "print 'Spark Master: ' + sc.master\n",
    "print 'Spark Home: ' + str(sc.sparkHome)\n",
    "print 'Spark User: ' + str(sc.sparkUser())\n",
    "print 'Application Name: ' + sc.appName\n",
    "print 'Application Id: ' + sc.applicationId"
   ]
  },
  {
   "cell_type": "code",
   "execution_count": null,
   "metadata": {
    "collapsed": true
   },
   "outputs": [],
   "source": [
    "# Stop the context when you are done with it. When you stop the SparkContext resources \n",
    "# are released and no further operations can be performed within that context.\n",
    "sc.stop()"
   ]
  },
  {
   "cell_type": "code",
   "execution_count": null,
   "metadata": {
    "collapsed": false
   },
   "outputs": [],
   "source": [
    "# Please restart the Kernel to switch to yarn-client mode\n",
    "# This is only needed if you already ran with local mode in same session\n",
    "# The Kernel can be restarted via the menus above or with the following code:\n",
    "import IPython\n",
    "app = IPython.Application.instance()\n",
    "app.kernel.do_shutdown(True)"
   ]
  },
  {
   "cell_type": "markdown",
   "metadata": {},
   "source": [
    "## Create a SparkContext in yarn-client mode\n",
    "\n",
    "In yarn-client mode, a Spark job is launched in the cluster.  This is needed to work with big data."
   ]
  },
  {
   "cell_type": "code",
   "execution_count": null,
   "metadata": {
    "collapsed": false
   },
   "outputs": [],
   "source": [
    "import pyspark\n",
    "\n",
    "# create a configuration\n",
    "conf = pyspark.SparkConf()\n",
    "\n",
    "# set the master to \"yarn-client\"\n",
    "conf.setMaster(\"yarn-client\")\n",
    "\n",
    "# set other options as desired\n",
    "conf.set(\"spark.yarn.am.memory\", \"512mb\")\n",
    "conf.set(\"spark.executor.memory\", \"1g\")\n",
    "\n",
    "# create the context\n",
    "sc = pyspark.SparkContext(conf=conf)"
   ]
  },
  {
   "cell_type": "code",
   "execution_count": null,
   "metadata": {
    "collapsed": false
   },
   "outputs": [],
   "source": [
    "# Test the context is working by creating an RDD and performing a simple operation\n",
    "rdd = sc.parallelize(range(10))\n",
    "print rdd.count()"
   ]
  },
  {
   "cell_type": "code",
   "execution_count": null,
   "metadata": {
    "collapsed": false
   },
   "outputs": [],
   "source": [
    "# Find out ore information about your SparkContext\n",
    "print 'Python Version: ' + sc.pythonVer\n",
    "print 'Spark Version: ' + sc.version\n",
    "print 'Spark Master: ' + sc.master\n",
    "print 'Spark Home: ' + str(sc.sparkHome)\n",
    "print 'Spark User: ' + str(sc.sparkUser())\n",
    "print 'Application Name: ' + sc.appName\n",
    "print 'Application Id: ' + sc.applicationId"
   ]
  },
  {
   "cell_type": "code",
   "execution_count": null,
   "metadata": {
    "collapsed": true
   },
   "outputs": [],
   "source": [
    "# Stop the context when you are done with it. When you stop the SparkContext resources \n",
    "# are released and no further operations can be performed within that context.\n",
    "sc.stop()"
   ]
  },
  {
   "cell_type": "markdown",
   "metadata": {
    "collapsed": true
   },
   "source": [
    "## Using Spark Submit\n",
    "\n",
    "It is possible to upload jars via Jupyter and use Spark Submit to run them.  Jars can be uploaded by accessing the [Jupyter dashboard](/tree) and clicking the \"Upload\" button"
   ]
  },
  {
   "cell_type": "code",
   "execution_count": null,
   "metadata": {
    "collapsed": false
   },
   "outputs": [],
   "source": [
    "# Call spark-submit to run the SparkPi example that ships with Spark.\n",
    "# We didn't need to upload this jar because it is already loaded on the system.\n",
    "!spark-submit --class org.apache.spark.examples.SparkPi \\\n",
    "    --master local \\\n",
    "    /usr/local/spark/lib/spark-examples-*.jar \\\n",
    "    10"
   ]
  },
  {
   "cell_type": "markdown",
   "metadata": {},
   "source": [
    "Alternatively, you can access the [Jupyter dashboard](/tree) and then choose \"New -> Terminal\" to run spark-submit at the command line."
   ]
  },
  {
   "cell_type": "markdown",
   "metadata": {
    "collapsed": true
   },
   "source": [
    "## Using the Scala spark-shell\n",
    "\n",
    "Access the [Jupyter dashboard](/tree) and then choose \"New -> Terminal\" to open a terminal Window.\n",
    "\n",
    "In the terminal window type:\n",
    "\n",
    "```bash\n",
    "    spark-shell --master local\n",
    "```\n",
    "\n",
    "Wait for the prompt and then type a simple Spark program to verify it is working:\n",
    "\n",
    "```scala\n",
    "   // create an RDD and perform count\n",
    "   val rdd = sc.parallelize(1 to 10)\n",
    "   rdd.count()\n",
    "   \n",
    "   // exit when you are done\n",
    "   exit()\n",
    "```\n",
    "\n",
    "## Viewing/Modifying Spark Configuration\n",
    "\n",
    "Spark configuration can be modified using SparkConf, as in the example above.\n",
    "\n",
    "Additionally, default configuration can be viewed and modified in a terminal (access the [Jupyter dashboard](/tree) and then choose \"New -> Terminal\")\n",
    "\n",
    "Default Spark configuration is stored in /etc/spark/conf, important files include:\n",
    "\n",
    "- spark-defaults.conf - default properties\n",
    "- log4j.properties - logging configuration\n",
    "\n",
    "Additional Hadoop settings are in /etc/hadoop/conf, important files include:\n",
    "\n",
    "- core-site.xml - Core Hadoop Configuration\n",
    "- hdfs-site.xml - HDFS Configuration\n",
    "- yarn-site.xml - YARN Configuration\n",
    "\n",
    "These settings are automatically downloaded from Cloudera Manager when provisioning a new Jupyter instance.\n",
    "\n",
    "View the [Spark Configuration](http://spark.apache.org/docs/latest/configuration.html) documentation for more information."
   ]
  },
  {
   "cell_type": "code",
   "execution_count": null,
   "metadata": {
    "collapsed": true
   },
   "outputs": [],
   "source": []
  }
 ],
 "metadata": {
  "kernelspec": {
   "display_name": "Python 2",
   "language": "python",
   "name": "python2"
  },
  "language_info": {
   "codemirror_mode": {
    "name": "ipython",
    "version": 2
   },
   "file_extension": ".py",
   "mimetype": "text/x-python",
   "name": "python",
   "nbconvert_exporter": "python",
   "pygments_lexer": "ipython2",
   "version": "2.7.11"
  }
 },
 "nbformat": 4,
 "nbformat_minor": 0
}
