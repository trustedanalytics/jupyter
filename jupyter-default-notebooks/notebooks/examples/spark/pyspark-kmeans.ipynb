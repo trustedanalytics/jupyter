{
 "cells": [
  {
   "cell_type": "markdown",
   "metadata": {},
   "source": [
    "# PySpark KMeans\n",
    "\n",
    "This notebook demonstrates KMeans, a clustering algorithm, in PySpark.\n",
    "\n",
    "Several [Spark examples](/tree/examples/spark) are included with TAP.\n",
    "\n",
    "More examples are available on the Spark website: http://spark.apache.org/examples.html\n",
    "\n",
    "PySpark API documentation: http://spark.apache.org/docs/latest/api/python/"
   ]
  },
  {
   "cell_type": "code",
   "execution_count": 1,
   "metadata": {
    "collapsed": true
   },
   "outputs": [],
   "source": [
    "# Import the needed libraries\n",
    "import pyspark\n",
    "from pyspark.mllib.linalg import Vectors\n",
    "from pyspark.ml.clustering import KMeans\n",
    "\n",
    "# Create a SparkContext in local mode\n",
    "sc = pyspark.SparkContext(\"local\")\n",
    "\n",
    "# Create a SqlContext from the SparkContext\n",
    "sqlContext = pyspark.SQLContext(sc)"
   ]
  },
  {
   "cell_type": "code",
   "execution_count": 2,
   "metadata": {
    "collapsed": false
   },
   "outputs": [
    {
     "data": {
      "text/html": [
       "<div>\n",
       "<table border=\"1\" class=\"dataframe\">\n",
       "  <thead>\n",
       "    <tr style=\"text-align: right;\">\n",
       "      <th></th>\n",
       "      <th>city</th>\n",
       "      <th>features</th>\n",
       "    </tr>\n",
       "  </thead>\n",
       "  <tbody>\n",
       "    <tr>\n",
       "      <th>0</th>\n",
       "      <td>San Francisco,CA</td>\n",
       "      <td>[37.62, 122.38]</td>\n",
       "    </tr>\n",
       "    <tr>\n",
       "      <th>1</th>\n",
       "      <td>San Jose,CA</td>\n",
       "      <td>[37.37, 121.92]</td>\n",
       "    </tr>\n",
       "    <tr>\n",
       "      <th>2</th>\n",
       "      <td>Portland,OR</td>\n",
       "      <td>[45.6, 122.6]</td>\n",
       "    </tr>\n",
       "    <tr>\n",
       "      <th>3</th>\n",
       "      <td>Seattle,WA</td>\n",
       "      <td>[47.45, 122.3]</td>\n",
       "    </tr>\n",
       "    <tr>\n",
       "      <th>4</th>\n",
       "      <td>New York,NY</td>\n",
       "      <td>[40.77, 73.98]</td>\n",
       "    </tr>\n",
       "    <tr>\n",
       "      <th>5</th>\n",
       "      <td>Atlantic City,NJ</td>\n",
       "      <td>[39.45, 74.57]</td>\n",
       "    </tr>\n",
       "    <tr>\n",
       "      <th>6</th>\n",
       "      <td>Philadelphia,PA</td>\n",
       "      <td>[39.88, 75.25]</td>\n",
       "    </tr>\n",
       "    <tr>\n",
       "      <th>7</th>\n",
       "      <td>Boston,MA</td>\n",
       "      <td>[42.37, 71.03]</td>\n",
       "    </tr>\n",
       "    <tr>\n",
       "      <th>8</th>\n",
       "      <td>Santa Rosa,CA</td>\n",
       "      <td>[38.52, 122.82]</td>\n",
       "    </tr>\n",
       "  </tbody>\n",
       "</table>\n",
       "</div>"
      ],
      "text/plain": [
       "               city         features\n",
       "0  San Francisco,CA  [37.62, 122.38]\n",
       "1       San Jose,CA  [37.37, 121.92]\n",
       "2       Portland,OR    [45.6, 122.6]\n",
       "3        Seattle,WA   [47.45, 122.3]\n",
       "4       New York,NY   [40.77, 73.98]\n",
       "5  Atlantic City,NJ   [39.45, 74.57]\n",
       "6   Philadelphia,PA   [39.88, 75.25]\n",
       "7         Boston,MA   [42.37, 71.03]\n",
       "8     Santa Rosa,CA  [38.52, 122.82]"
      ]
     },
     "execution_count": 2,
     "metadata": {},
     "output_type": "execute_result"
    }
   ],
   "source": [
    "# Setup data for some East Coast and West Coast cities\n",
    "data = [ \n",
    "    # City, Latitude, Longitude\n",
    "    ( 'San Francisco,CA', Vectors.dense(37.62, 122.38) ),\n",
    "    ( 'San Jose,CA', Vectors.dense(37.37, 121.92) ),\n",
    "    ( 'Portland,OR', Vectors.dense(45.60, 122.60) ),\n",
    "    ( 'Seattle,WA', Vectors.dense(47.45, 122.30) ),\n",
    "    ( 'New York,NY', Vectors.dense(40.77, 73.98) ),\n",
    "    ( 'Atlantic City,NJ', Vectors.dense(39.45, 74.57) ),\n",
    "    ( 'Philadelphia,PA', Vectors.dense(39.88, 75.25) ),\n",
    "    ( 'Boston,MA', Vectors.dense(42.37, 71.03) ),\n",
    "    ( 'Santa Rosa,CA', Vectors.dense(38.52, 122.82) )\n",
    "]\n",
    "\n",
    "# Create a DataFrame\n",
    "df = sqlContext.createDataFrame(data, ['city', 'features'])\n",
    "\n",
    "# Convert to a Pandas DataFrame for easy display\n",
    "df.toPandas()"
   ]
  },
  {
   "cell_type": "markdown",
   "metadata": {},
   "source": [
    "## With k=2, can KMeans separate the East Coast from West Coast?"
   ]
  },
  {
   "cell_type": "code",
   "execution_count": 3,
   "metadata": {
    "collapsed": false
   },
   "outputs": [
    {
     "name": "stdout",
     "output_type": "stream",
     "text": [
      "cluster centers: [array([ 40.6175,  73.7075]), array([  41.312,  122.404])]\n"
     ]
    },
    {
     "data": {
      "text/html": [
       "<div>\n",
       "<table border=\"1\" class=\"dataframe\">\n",
       "  <thead>\n",
       "    <tr style=\"text-align: right;\">\n",
       "      <th></th>\n",
       "      <th>city</th>\n",
       "      <th>features</th>\n",
       "      <th>prediction</th>\n",
       "    </tr>\n",
       "  </thead>\n",
       "  <tbody>\n",
       "    <tr>\n",
       "      <th>0</th>\n",
       "      <td>San Francisco,CA</td>\n",
       "      <td>[37.62, 122.38]</td>\n",
       "      <td>1</td>\n",
       "    </tr>\n",
       "    <tr>\n",
       "      <th>1</th>\n",
       "      <td>San Jose,CA</td>\n",
       "      <td>[37.37, 121.92]</td>\n",
       "      <td>1</td>\n",
       "    </tr>\n",
       "    <tr>\n",
       "      <th>2</th>\n",
       "      <td>Portland,OR</td>\n",
       "      <td>[45.6, 122.6]</td>\n",
       "      <td>1</td>\n",
       "    </tr>\n",
       "    <tr>\n",
       "      <th>3</th>\n",
       "      <td>Seattle,WA</td>\n",
       "      <td>[47.45, 122.3]</td>\n",
       "      <td>1</td>\n",
       "    </tr>\n",
       "    <tr>\n",
       "      <th>4</th>\n",
       "      <td>New York,NY</td>\n",
       "      <td>[40.77, 73.98]</td>\n",
       "      <td>0</td>\n",
       "    </tr>\n",
       "    <tr>\n",
       "      <th>5</th>\n",
       "      <td>Atlantic City,NJ</td>\n",
       "      <td>[39.45, 74.57]</td>\n",
       "      <td>0</td>\n",
       "    </tr>\n",
       "    <tr>\n",
       "      <th>6</th>\n",
       "      <td>Philadelphia,PA</td>\n",
       "      <td>[39.88, 75.25]</td>\n",
       "      <td>0</td>\n",
       "    </tr>\n",
       "    <tr>\n",
       "      <th>7</th>\n",
       "      <td>Boston,MA</td>\n",
       "      <td>[42.37, 71.03]</td>\n",
       "      <td>0</td>\n",
       "    </tr>\n",
       "    <tr>\n",
       "      <th>8</th>\n",
       "      <td>Santa Rosa,CA</td>\n",
       "      <td>[38.52, 122.82]</td>\n",
       "      <td>1</td>\n",
       "    </tr>\n",
       "  </tbody>\n",
       "</table>\n",
       "</div>"
      ],
      "text/plain": [
       "               city         features  prediction\n",
       "0  San Francisco,CA  [37.62, 122.38]           1\n",
       "1       San Jose,CA  [37.37, 121.92]           1\n",
       "2       Portland,OR    [45.6, 122.6]           1\n",
       "3        Seattle,WA   [47.45, 122.3]           1\n",
       "4       New York,NY   [40.77, 73.98]           0\n",
       "5  Atlantic City,NJ   [39.45, 74.57]           0\n",
       "6   Philadelphia,PA   [39.88, 75.25]           0\n",
       "7         Boston,MA   [42.37, 71.03]           0\n",
       "8     Santa Rosa,CA  [38.52, 122.82]           1"
      ]
     },
     "execution_count": 3,
     "metadata": {},
     "output_type": "execute_result"
    }
   ],
   "source": [
    "# Setup KMeans, where k is the number of cluster centers we want\n",
    "kmeans = KMeans(k=2, seed=1)\n",
    "\n",
    "# Train the model\n",
    "model = kmeans.fit(df)\n",
    "\n",
    "# Print the cluster centers\n",
    "print \"cluster centers: \" + str(model.clusterCenters())\n",
    "\n",
    "# Use the model to cluster the original frame\n",
    "results = model.transform(df).select(\"city\", \"features\", \"prediction\")\n",
    "\n",
    "# Convert results to Pandas DataFrame for easy display\n",
    "results.toPandas()"
   ]
  },
  {
   "cell_type": "markdown",
   "metadata": {},
   "source": [
    "## With k=3, we'd expect to see the Bay Area, PNW, and North East clustered"
   ]
  },
  {
   "cell_type": "code",
   "execution_count": 4,
   "metadata": {
    "collapsed": false
   },
   "outputs": [
    {
     "data": {
      "text/html": [
       "<div>\n",
       "<table border=\"1\" class=\"dataframe\">\n",
       "  <thead>\n",
       "    <tr style=\"text-align: right;\">\n",
       "      <th></th>\n",
       "      <th>city</th>\n",
       "      <th>features</th>\n",
       "      <th>prediction</th>\n",
       "    </tr>\n",
       "  </thead>\n",
       "  <tbody>\n",
       "    <tr>\n",
       "      <th>0</th>\n",
       "      <td>San Francisco,CA</td>\n",
       "      <td>[37.62, 122.38]</td>\n",
       "      <td>1</td>\n",
       "    </tr>\n",
       "    <tr>\n",
       "      <th>1</th>\n",
       "      <td>San Jose,CA</td>\n",
       "      <td>[37.37, 121.92]</td>\n",
       "      <td>1</td>\n",
       "    </tr>\n",
       "    <tr>\n",
       "      <th>2</th>\n",
       "      <td>Portland,OR</td>\n",
       "      <td>[45.6, 122.6]</td>\n",
       "      <td>2</td>\n",
       "    </tr>\n",
       "    <tr>\n",
       "      <th>3</th>\n",
       "      <td>Seattle,WA</td>\n",
       "      <td>[47.45, 122.3]</td>\n",
       "      <td>2</td>\n",
       "    </tr>\n",
       "    <tr>\n",
       "      <th>4</th>\n",
       "      <td>New York,NY</td>\n",
       "      <td>[40.77, 73.98]</td>\n",
       "      <td>0</td>\n",
       "    </tr>\n",
       "    <tr>\n",
       "      <th>5</th>\n",
       "      <td>Atlantic City,NJ</td>\n",
       "      <td>[39.45, 74.57]</td>\n",
       "      <td>0</td>\n",
       "    </tr>\n",
       "    <tr>\n",
       "      <th>6</th>\n",
       "      <td>Philadelphia,PA</td>\n",
       "      <td>[39.88, 75.25]</td>\n",
       "      <td>0</td>\n",
       "    </tr>\n",
       "    <tr>\n",
       "      <th>7</th>\n",
       "      <td>Boston,MA</td>\n",
       "      <td>[42.37, 71.03]</td>\n",
       "      <td>0</td>\n",
       "    </tr>\n",
       "    <tr>\n",
       "      <th>8</th>\n",
       "      <td>Santa Rosa,CA</td>\n",
       "      <td>[38.52, 122.82]</td>\n",
       "      <td>1</td>\n",
       "    </tr>\n",
       "  </tbody>\n",
       "</table>\n",
       "</div>"
      ],
      "text/plain": [
       "               city         features  prediction\n",
       "0  San Francisco,CA  [37.62, 122.38]           1\n",
       "1       San Jose,CA  [37.37, 121.92]           1\n",
       "2       Portland,OR    [45.6, 122.6]           2\n",
       "3        Seattle,WA   [47.45, 122.3]           2\n",
       "4       New York,NY   [40.77, 73.98]           0\n",
       "5  Atlantic City,NJ   [39.45, 74.57]           0\n",
       "6   Philadelphia,PA   [39.88, 75.25]           0\n",
       "7         Boston,MA   [42.37, 71.03]           0\n",
       "8     Santa Rosa,CA  [38.52, 122.82]           1"
      ]
     },
     "execution_count": 4,
     "metadata": {},
     "output_type": "execute_result"
    }
   ],
   "source": [
    "# Setup KMeans, where k is the number of cluster centers we want\n",
    "kmeans = KMeans(k=3, seed=1)\n",
    "\n",
    "# Train the Model\n",
    "model = kmeans.fit(df)\n",
    "\n",
    "# Use the model to cluster the original frame\n",
    "results = model.transform(df).select(\"city\", \"features\", \"prediction\")\n",
    "\n",
    "# Convert results to Pandas DataFrame for easy display\n",
    "results.toPandas()"
   ]
  },
  {
   "cell_type": "markdown",
   "metadata": {},
   "source": [
    "## Stop the Spark Context"
   ]
  },
  {
   "cell_type": "code",
   "execution_count": 5,
   "metadata": {
    "collapsed": false
   },
   "outputs": [],
   "source": [
    "# Stop the context when you are done with it. When you stop the SparkContext resources \n",
    "# are released and no further operations can be performed within that context\n",
    "sc.stop()"
   ]
  }
 ],
 "metadata": {
  "kernelspec": {
   "display_name": "Python 2",
   "language": "python",
   "name": "python2"
  },
  "language_info": {
   "codemirror_mode": {
    "name": "ipython",
    "version": 2
   },
   "file_extension": ".py",
   "mimetype": "text/x-python",
   "name": "python",
   "nbconvert_exporter": "python",
   "pygments_lexer": "ipython2",
   "version": "2.7.11"
  }
 },
 "nbformat": 4,
 "nbformat_minor": 0
}
